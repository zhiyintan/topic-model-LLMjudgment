{
 "cells": [
  {
   "cell_type": "code",
   "execution_count": null,
   "metadata": {},
   "outputs": [],
   "source": [
    "import os\n",
    "os.chdir(\"..\")"
   ]
  },
  {
   "cell_type": "code",
   "execution_count": 2,
   "metadata": {},
   "outputs": [
    {
     "name": "stderr",
     "output_type": "stream",
     "text": [
      "/nfs/home/tanz/paper_agri/Agri-venv/lib64/python3.9/site-packages/tqdm/auto.py:21: TqdmWarning: IProgress not found. Please update jupyter and ipywidgets. See https://ipywidgets.readthedocs.io/en/stable/user_install.html\n",
      "  from .autonotebook import tqdm as notebook_tqdm\n"
     ]
    }
   ],
   "source": [
    "# Select a topic model\n",
    "#model = \"lda\" ; from src.topic_models.lda_model import LDAData, LDAModelTrainer\n",
    "#model = \"prodlda\"; from src.topic_models.prodlda_model_octis import ProdLDAData, ProdLDATrainer\n",
    "model = \"combinedtm\"; from src.topic_models.combinedtm_model import CombinedTMData, CombinedTMTrainer\n",
    "#model = \"bertopic\"; from src.topic_models.bertopic_model import BERTopicData, BERTopicTrainer"
   ]
  },
  {
   "cell_type": "code",
   "execution_count": null,
   "metadata": {},
   "outputs": [],
   "source": [
    "# Select a dataset\n",
    "dataset = \"agris\" # vocab: 90604; used agris stopwords vocab: 13354\n",
    "preprocessing_params = {\n",
    "    \"vocab_size\": 10000, \n",
    "    \"stopwords\": 'agris'}\n",
    "\n",
    "# combinedtm & agris: \n",
    "# ? mins per run with cpu only; \n",
    "# 20 mins per run with gpu"
   ]
  },
  {
   "cell_type": "code",
   "execution_count": 4,
   "metadata": {},
   "outputs": [],
   "source": [
    "# List data path\n",
    "train_path = f\"../data/raw/{dataset}/tokenized_train.csv\"\n",
    "test_path = f\"../data/raw/{dataset}/tokenized_test.csv\"\n",
    "\n",
    "# Set result path\n",
    "result_dir = f\"../data/topic_model_output/{dataset}/{model}\""
   ]
  },
  {
   "cell_type": "code",
   "execution_count": 5,
   "metadata": {},
   "outputs": [],
   "source": [
    "# Parameters for model training\n",
    "\n",
    "# how many topic words for each topic to be remained, are they printed\n",
    "num_topic_words = 10\n",
    "print_topic_words = True\n",
    "\n",
    "# run n times\n",
    "num_iterations = 1\n",
    "\n",
    "# to get the topic distribution of test data or not\n",
    "run_test = True\n",
    "\n",
    "# parameters_tuning mode or not\n",
    "mode = '' #'parameters_tuning' # ''"
   ]
  },
  {
   "cell_type": "code",
   "execution_count": 6,
   "metadata": {},
   "outputs": [
    {
     "name": "stdout",
     "output_type": "stream",
     "text": [
      "[(100, 200, 0.1, 0.002, 40)]\n"
     ]
    }
   ],
   "source": [
    "# Parameters for topic model, can be revised by go to the definition of \"get_parameter_combinations\"\n",
    "from src.topic_models.utils.data_utils import get_parameter_combinations\n",
    "parameter_combinations = get_parameter_combinations(model)\n",
    "print(parameter_combinations)"
   ]
  },
  {
   "cell_type": "code",
   "execution_count": 7,
   "metadata": {},
   "outputs": [
    {
     "name": "stderr",
     "output_type": "stream",
     "text": [
      "Processing train texts: 100%|█████████████████████████████████████████████████████████| 454850/454850 [00:05<00:00, 84426.66it/s]\n",
      "/nfs/home/tanz/paper_agri/Agri-venv/lib64/python3.9/site-packages/contextualized_topic_models/utils/data_preparation.py:64: UserWarning: the longest document in your collection has 344 words, the model instead truncates to 128 tokens.\n",
      "  warnings.warn(\n",
      "Batches: 100%|███████████████████████████████████████████████████████████████████████████████| 2275/2275 [01:08<00:00, 33.11it/s]\n",
      "Processing test texts: 100%|████████████████████████████████████████████████████████████| 50703/50703 [00:00<00:00, 83716.18it/s]\n",
      "/nfs/home/tanz/paper_agri/Agri-venv/lib64/python3.9/site-packages/contextualized_topic_models/utils/data_preparation.py:64: UserWarning: the longest document in your collection has 241 words, the model instead truncates to 128 tokens.\n",
      "  warnings.warn(\n",
      "Batches: 100%|█████████████████████████████████████████████████████████████████████████████████| 254/254 [00:07<00:00, 33.46it/s]\n"
     ]
    }
   ],
   "source": [
    "# Load data\n",
    "#lda_data = LDAData(train_path, test_path, preprocessing_params)\n",
    "#prodlda_data = ProdLDAData(train_path, test_path, preprocessing_params)\n",
    "combinedtm_data = CombinedTMData(train_path, test_path, preprocessing_params)\n",
    "#bertopic_data = BERTopicData(train_path, test_path, preprocessing_params)"
   ]
  },
  {
   "cell_type": "code",
   "execution_count": 8,
   "metadata": {},
   "outputs": [
    {
     "name": "stdout",
     "output_type": "stream",
     "text": [
      "vocabulary size: 10000\n"
     ]
    }
   ],
   "source": [
    "print(f\"vocabulary size: {len(combinedtm_data.train['vocab'])}\")"
   ]
  },
  {
   "cell_type": "code",
   "execution_count": 9,
   "metadata": {},
   "outputs": [],
   "source": [
    "# Prepare model trainer\n",
    "#trainer = LDAModelTrainer(lda_data, num_topic_words, parameter_combinations, result_dir, mode=mode, print_topic_words=print_topic_words, run_test=run_test)\n",
    "#trainer = ProdLDATrainer(prodlda_data, num_topic_words, parameter_combinations, result_dir, mode=mode, print_topic_words=print_topic_words, run_test=run_test)\n",
    "trainer = CombinedTMTrainer(combinedtm_data, num_topic_words, parameter_combinations, result_dir, mode=mode, print_topic_words=print_topic_words, run_test=run_test)\n",
    "#trainer = BERTopicTrainer(bertopic_data, num_topic_words, parameter_combinations, result_dir, mode=mode, print_topic_words=print_topic_words, run_test=run_test)"
   ]
  },
  {
   "cell_type": "code",
   "execution_count": 10,
   "metadata": {},
   "outputs": [],
   "source": [
    "# Sample data from training set as corpus for coherence evaluation\n",
    "eval_corpus = None # None, int (sample counts)"
   ]
  },
  {
   "cell_type": "code",
   "execution_count": 11,
   "metadata": {},
   "outputs": [
    {
     "name": "stderr",
     "output_type": "stream",
     "text": [
      "/nfs/home/tanz/paper_agri/Agri-venv/lib64/python3.9/site-packages/torch/utils/data/dataloader.py:617: UserWarning: This DataLoader will create 12 worker processes in total. Our suggested max number of worker in current system is 8, which is smaller than what this DataLoader is going to create. Please be aware that excessive worker creation might get DataLoader running slow or even freeze, lower the worker number to avoid potential slowness/freeze if necessary.\n",
      "  warnings.warn(\n",
      "Epoch: [40/40]\t Seen Samples: [18192000/18194000]\tTrain Loss: 101.18072914948878\tTime: 0:00:16.500529: : 40it [11:07, 16.70s/it]\n",
      "100%|███████████████████████████████████████████████████████████████████████████████████████| 2275/2275 [00:13<00:00, 164.58it/s]\n"
     ]
    },
    {
     "name": "stdout",
     "output_type": "stream",
     "text": [
      "Topic 0: level sub different regime method research irrigation recommend design test\n",
      "Topic 1: receive treatment control herbicide spray post pendimethalin hand pre treat\n",
      "Topic 2: state village respondent district province extension interview university training scheme\n",
      "Topic 3: scenario hydrological regional scale multi simulation different model series variable\n",
      "Topic 4: profile saline moisture layer sandy soil texture clay sodic depth\n",
      "Topic 5: cultivate rainfed rain feed cultivation region irrigate production expansion vegetable\n",
      "Topic 6: phase vegetative stage early degree growth end reproductive flowering late\n",
      "Topic 7: water potential mpa stem deficit supply midday predawn capacity dawn\n",
      "Topic 8: block row plastic space split apart design spacing plot bed\n",
      "Topic 9: salt saline seedling salinity germination tolerance tolerant quinoa nacl rootstock\n",
      "Topic 10: annual reduction runoff decline decrease loss increase storage percent year\n",
      "Topic 11: fraction amendment organic biochar clay material manure matter sorption compost\n",
      "Topic 12: soil capacity moisture site depth irrigate plot low non field\n",
      "Topic 13: fresh weight decrease sugar shoot leave soluble solid increase length\n",
      "Topic 14: green source product waste industry material environment urban produce consumption\n",
      "Topic 15: correlate relationship difference correlation number lai height matter index leaf\n",
      "Topic 16: drought recovery stress tolerance expression tolerant heat gene trait genotype\n",
      "Topic 17: local service scale ecosystem ecological relate community adaptation vulnerability landscape\n",
      "Topic 18: operation maintenance power optimal tank operate pump rainwater generation canal\n",
      "Topic 19: shallow aquifer depletion suitability groundwater seawater origin rock isotopic recharge\n",
      "Topic 20: high low produce solid level oil total value vegetable acid\n",
      "Topic 21: uptake total biomass estimate nutrient nitrogen dry matter efficiency base\n",
      "Topic 22: trend seasonal precipitation climatic pattern variability variation series vegetation cover\n",
      "Topic 23: output price net percent return income benefit input hectare gross\n",
      "Topic 24: soybean yield corn sorghum cotton grain component gap location planting\n",
      "Topic 25: old mixed trial fine sand grass location green grow sandy\n",
      "Topic 26: regime different growth maize nitrogen uptake potato winter fertilization wheat\n",
      "Topic 27: irrigation reduce leach source application fertilizer risk pesticide contamination drip\n",
      "Topic 28: oxide emission methane ghg fertilization phosphorus ammonia greenhouse n₂o co₂\n",
      "Topic 29: lowland upland cultivation variety rice aerobic hybrid seeded sri flood\n",
      "Topic 30: plan action transfer local program stakeholder knowledge science problem management\n",
      "Topic 31: relative plant stress growth reduction uptake leaf biomass activity photosynthetic\n",
      "Topic 32: exposure health risk human vegetable contaminate contamination cancer heavy safety\n",
      "Topic 33: irrigation zone wet water dry depth season deep deficit root\n",
      "Topic 34: deep transport table drainage recharge leach nitrate drain shallow no₃\n",
      "Topic 35: level foliar decrease activity increase concentration low leave salinity application\n",
      "Topic 36: wet summer end dry season rainy normal year monsoon rain\n",
      "Topic 37: feddan clm hunan blackgram nmol soyabean prb cobs pfp lrwc\n",
      "Topic 38: band vegetation index spectral correlation ndvi red standard edge regression\n",
      "Topic 39: rotation residue corn winter maize soybean barley conventional cropping cover\n",
      "Topic 40: compound cell extract activity metabolite acid expression bacteria gene pathway\n",
      "Topic 41: sugar soluble phosphorus total potassium solid protein content carbon correlate\n",
      "Topic 42: component principal type cluster analysis correlation dominant group variable pattern\n",
      "Topic 43: zone root uptake shoot plant growth tomato density rot length\n",
      "Topic 44: heat flux thermal radiation air measurement chamber solar wind evaporation\n",
      "Topic 45: record wue high return low maximum respectively net yield mm\n",
      "Topic 46: summer temperature winter reduction decline precipitation scenario early rainfall late\n",
      "Topic 47: variable time function pressure point sensitivity test infiltration equation flow\n",
      "Topic 48: spring line tolerant hybrid late early sorghum variety program durum\n",
      "Topic 49: square mean length range coefficient diameter depth zone volume error\n",
      "Topic 50: clm prb nts hunan nmol blackgram feddan ctw sst soyabean\n",
      "Topic 51: detect count bacterial coli bacteria prevalence pathogen spp isolate detection\n",
      "Topic 52: electron photosynthetic transpiration co₂ net reduction stomatal conductance light quantum\n",
      "Topic 53: water saline irrigate different irrigation deficit grow capacity regime control\n",
      "Topic 54: year harvest fertilizer fruit manure number application apply fertilization yield\n",
      "Topic 55: effluent removal industrial sewage treat reuse municipal waste wastewater pollutant\n",
      "Topic 56: zone area east district waterlogging shallow province salinization suitable command\n",
      "Topic 57: limit exceed standard arsenic heavy sample no₃ guideline dissolve range\n",
      "Topic 58: species native fish landscape diversity specie bird abundance forest habitat\n",
      "Topic 59: percentage ratio sar residual sodium salinity permeability suitable adsorption low\n",
      "Topic 60: layer soil microbial moisture soc density decrease increase organic carbon\n",
      "Topic 61: june october december march month february november august date july\n",
      "Topic 62: adoption knowledge lack behavior benefit access information technology financial training\n",
      "Topic 63: usda exp ars contribution res joint univ prb oklahoma clm\n",
      "Topic 64: requirement coefficient evapotranspiration crop actual kcb simulation estimate maize evaporation\n",
      "Topic 65: non great low irrigated density area leaf tree high leave\n",
      "Topic 66: irrigation interval apply deficit regime treatment stage frequency schedule day\n",
      "Topic 67: demand supply water consumption allocation global resource scenario requirement footprint\n",
      "Topic 68: variety non environment rice yield local drought factor base seed\n",
      "Topic 69: olive orchard grape apple citrus orange pear young wine mango\n",
      "Topic 70: oil quality date harvest fruit component fiber seed tomato vegetative\n",
      "Topic 71: pot medium substrate solution culture nutrient plant greenhouse container uptake\n",
      "Topic 72: water ground quality standard source drinking fresh supply reclaimed lake\n",
      "Topic 73: apply recommend manure application urea nitrate ammonium fertilizer coat leach\n",
      "Topic 74: solution tissue calcium chloride aqueous ion leachate liquid form mass\n",
      "Topic 75: genetic selection line group parent trait cluster marker association sequence\n",
      "Topic 76: water deficit index indicator potential relationship factor relate quality requirement\n",
      "Topic 77: water scale resource supply local agricultural state demand management groundwater\n",
      "Topic 78: increase application yield grain decrease number reduction wue straw uptake\n",
      "Topic 79: irrigation scheme requirement efficiency supply allocation water canal optimal saving\n",
      "Topic 80: disease pest incidence damage resistant insect spot resistance germination severity\n",
      "Topic 81: clm hunan ctw lrwc prb soyabean stagnant feddan tsw omission\n",
      "Topic 82: adaptation change scenario climate climatic global variability vulnerability rcp century\n",
      "Topic 83: non map irrigated site forest cropland class cultivate cover area\n",
      "Topic 84: grower practice crop management information decision rotation production pest cropping\n",
      "Topic 85: term microbial structure degradation community soil erosion carbon ecosystem activity\n",
      "Topic 86: downstream dam stream sediment lake delta flood fish reservoir floodplain\n",
      "Topic 87: moisture soil measurement zone profile distribution hydraulic capacity content depth\n",
      "Topic 88: simulation prediction linear uncertainty optimization fit model function multi algorithm\n",
      "Topic 89: range daily maximum annual average mean monthly respectively seasonal reach\n",
      "Topic 90: number height record weight plant seed day density length sow\n",
      "Topic 91: region arid oasis basin watershed freshwater nile aral desert regional\n",
      "Topic 92: conventional return cotton net efficiency cultivation cost benefit cropping planting\n",
      "Topic 93: forage bean potato feed beef green industry dairy animal milk\n",
      "Topic 94: country national sector people poverty rural security face nutrition international\n",
      "Topic 95: weather station artificial datum machine meteorological accuracy network learning available\n",
      "Topic 96: field paddy trial university rainfed wet station cropping season kharif\n",
      "Topic 97: drip sprinkler subsurface irrigation plastic frequency fertigation micro film mulch\n",
      "Topic 98: conventional paddy pesticide loss drainage flood herbicide practice flooding runoff\n",
      "Topic 99: sand particle slope head infiltration filter drain hydraulic transport subsurface\n",
      "\n",
      "\n"
     ]
    },
    {
     "name": "stderr",
     "output_type": "stream",
     "text": [
      "100%|███████████████████████████████████████████████████████████████████████████████████████| 2275/2275 [00:13<00:00, 163.87it/s]\n"
     ]
    },
    {
     "name": "stdout",
     "output_type": "stream",
     "text": [
      "The shape of train set's topic distribution is (454850, 100)\n",
      "Topic Diversity: 0.367 (used 0.0020 seconds)\n",
      "Inverted Ranked-Biased Overlap: 0.6684364901591773 (used 0.2502 seconds)\n",
      "Topic Coherence u_mass: -4.842014792523094 (used 15.9956 seconds)\n",
      "Topic Coherence c_v: 0.5900347067008633 (used 40.3209 seconds)\n",
      "Topic Coherence c_npmi: 0.07649229781998139 (used 45.9079 seconds)\n"
     ]
    },
    {
     "name": "stderr",
     "output_type": "stream",
     "text": [
      "100%|██████████████████████████████████████████████████████████████████████████████████████████| 254/254 [00:03<00:00, 72.95it/s]\n"
     ]
    },
    {
     "name": "stdout",
     "output_type": "stream",
     "text": [
      "The shape of test set's topic distribution is (50703, 100)\n"
     ]
    }
   ],
   "source": [
    "# Train and evaluate the model\n",
    "trainer.train_and_evaluate(num_iterations)"
   ]
  }
 ],
 "metadata": {
  "kernelspec": {
   "display_name": "Python 3 (ipykernel)",
   "language": "python",
   "name": "python3"
  },
  "language_info": {
   "codemirror_mode": {
    "name": "ipython",
    "version": 3
   },
   "file_extension": ".py",
   "mimetype": "text/x-python",
   "name": "python",
   "nbconvert_exporter": "python",
   "pygments_lexer": "ipython3",
   "version": "3.9.18"
  }
 },
 "nbformat": 4,
 "nbformat_minor": 2
}
