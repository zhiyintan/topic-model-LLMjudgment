{
 "cells": [
  {
   "cell_type": "code",
   "execution_count": 4,
   "metadata": {},
   "outputs": [],
   "source": [
    "import os\n",
    "os.chdir(\"..\")"
   ]
  },
  {
   "cell_type": "code",
   "execution_count": null,
   "metadata": {},
   "outputs": [],
   "source": [
    "# Select a topic model\n",
    "#model = \"lda\" ; from src.topic_models.lda_model import LDAData, LDAModelTrainer\n",
    "#model = \"prodlda\"; from src.topic_models.prodlda_model_octis import ProdLDAData, ProdLDATrainer\n",
    "#model = \"combinedtm\"; from src.topic_models.combinedtm_model import CombinedTMData, CombinedTMTrainer\n",
    "model = \"bertopic\"; from src.topic_models.bertopic_model import BERTopicData, BERTopicTrainer"
   ]
  },
  {
   "cell_type": "code",
   "execution_count": 3,
   "metadata": {},
   "outputs": [],
   "source": [
    "# Select a dataset\n",
    "dataset = \"20ng\" # vocab: 54437; remove stopwords: 54147\n",
    "preprocessing_params = {\n",
    "    \"vocab_size\": 10000, \n",
    "    \"stopwords\": 'English'}\n",
    "\n",
    "# bertopic & 20ng: \n",
    "# ? mins per run with cpu only; \n",
    "# 22 second per run with gpu h100"
   ]
  },
  {
   "cell_type": "code",
   "execution_count": 4,
   "metadata": {},
   "outputs": [],
   "source": [
    "# List data path\n",
    "train_path = f\"../data/raw/{dataset}/tokenized_train.csv\"\n",
    "test_path = f\"../data/raw/{dataset}/tokenized_test.csv\"\n",
    "\n",
    "# Set result path\n",
    "result_dir = f\"../data/topic_model_output/{dataset}/{model}\""
   ]
  },
  {
   "cell_type": "code",
   "execution_count": 5,
   "metadata": {},
   "outputs": [],
   "source": [
    "# Parameters for model training\n",
    "\n",
    "# how many topic words for each topic to be remained, are they printed\n",
    "num_topic_words = 10\n",
    "print_topic_words = True\n",
    "\n",
    "# run n times\n",
    "num_iterations = 1\n",
    "\n",
    "# to get the topic distribution of test data or not\n",
    "run_test = True\n",
    "\n",
    "# parameters_tuning mode or not\n",
    "mode = '' #'parameters_tuning' # ''"
   ]
  },
  {
   "cell_type": "code",
   "execution_count": 6,
   "metadata": {},
   "outputs": [
    {
     "name": "stdout",
     "output_type": "stream",
     "text": [
      "[(10, 5, 25, 0.3)]\n"
     ]
    }
   ],
   "source": [
    "# Parameters for topic model, can be revised by go to the definition of \"get_parameter_combinations\"\n",
    "from src.topic_models.utils.data_utils import get_parameter_combinations\n",
    "parameter_combinations = get_parameter_combinations(model)\n",
    "print(parameter_combinations)"
   ]
  },
  {
   "cell_type": "code",
   "execution_count": 7,
   "metadata": {},
   "outputs": [
    {
     "name": "stderr",
     "output_type": "stream",
     "text": [
      "Processing train texts: 100%|███████████████████████████████████████████████████████████| 11314/11314 [00:00<00:00, 19240.21it/s]\n",
      "Processing test texts: 100%|██████████████████████████████████████████████████████████████| 7532/7532 [00:00<00:00, 20117.50it/s]\n"
     ]
    }
   ],
   "source": [
    "# Load data\n",
    "#lda_data = LDAData(train_path, test_path, preprocessing_params)\n",
    "#prodlda_data = ProdLDAData(train_path, test_path, preprocessing_params)\n",
    "#combinedtm_data = CombinedTMData(train_path, test_path, preprocessing_params)\n",
    "bertopic_data = BERTopicData(train_path, test_path, preprocessing_params)"
   ]
  },
  {
   "cell_type": "code",
   "execution_count": 8,
   "metadata": {},
   "outputs": [
    {
     "name": "stdout",
     "output_type": "stream",
     "text": [
      "vocabulary size: 10000\n"
     ]
    }
   ],
   "source": [
    "print(f\"vocabulary size: {len(bertopic_data.train['vocab'])}\")"
   ]
  },
  {
   "cell_type": "code",
   "execution_count": 9,
   "metadata": {},
   "outputs": [],
   "source": [
    "# Prepare model trainer\n",
    "#trainer = LDAModelTrainer(lda_data, num_topic_words, parameter_combinations, result_dir, mode=mode, print_topic_words=print_topic_words, run_test=run_test)\n",
    "#trainer = ProdLDATrainer(prodlda_data, num_topic_words, parameter_combinations, result_dir, mode=mode, print_topic_words=print_topic_words, run_test=run_test)\n",
    "#trainer = CombinedTMTrainer(combinedtm_data, num_topic_words, parameter_combinations, result_dir, mode=mode, print_topic_words=print_topic_words, run_test=run_test)\n",
    "trainer = BERTopicTrainer(bertopic_data, num_topic_words, parameter_combinations, result_dir, mode=mode, print_topic_words=print_topic_words, run_test=run_test)"
   ]
  },
  {
   "cell_type": "code",
   "execution_count": null,
   "metadata": {},
   "outputs": [
    {
     "name": "stderr",
     "output_type": "stream",
     "text": [
      "Training Model with 1 Parameter Combinations:   0%|                                                        | 0/1 [00:00<?, ?it/s]"
     ]
    },
    {
     "name": "stderr",
     "output_type": "stream",
     "text": [
      "Batches: 100%|████████████████████████████████████████████████████████████████████████████████| 354/354 [00:03<00:00, 113.81it/s]\n",
      "2025-03-24 18:49:48,217 - BERTopic - Dimensionality - Fitting the dimensionality reduction algorithm\n",
      "2025-03-24 18:49:48,512 - BERTopic - Dimensionality - Completed ✓\n",
      "2025-03-24 18:49:48,513 - BERTopic - Cluster - Start clustering the reduced embeddings\n",
      "2025-03-24 18:49:48,683 - BERTopic - Cluster - Completed ✓\n",
      "2025-03-24 18:49:48,686 - BERTopic - Representation - Extracting topics from clusters using representation models.\n"
     ]
    },
    {
     "name": "stdout",
     "output_type": "stream",
     "text": [
      "func: all_points_membership_vectors\n"
     ]
    },
    {
     "name": "stderr",
     "output_type": "stream",
     "text": [
      "2025-03-24 18:49:50,291 - BERTopic - Representation - Completed ✓\n"
     ]
    },
    {
     "name": "stdout",
     "output_type": "stream",
     "text": [
      "avg_words:\t520\n",
      "Topic -1: 10, use work problem need file program run dos bit write\n",
      "Topic 0: 10, game team year score pick toronto cup van average shot\n",
      "Topic 1: 10, car engine ride tire drive speed rear gear auto transmission\n",
      "Topic 2: 10, space nasa orbit moon mission satellite solar flight astronomy planet\n",
      "Topic 3: 10, msg patient doctor disease health treatment medicine symptom headache hospital\n",
      "Topic 4: 10, sale ground circuit stereo radio receiver input box game sony\n",
      "Topic 5: 10, key clipper chip algorithm security encrypt phone scheme block patent\n",
      "Topic 6: 10, israel jews jewish nazi war peace palestinians gaza jerusalem zionist\n",
      "Topic 7: 10, motherboard bus ram card upgrade mac simms processor cpu coprocessor\n",
      "Topic 8: 10, god church bible faith catholic christians matthew pope judas revelation\n",
      "Topic 9: 10, image colormap program animation bitmap graphics jpeg pixel pixmap convert\n",
      "Topic 10: 10, scsi disk controller floppy tape boot mac cable quadra rom\n",
      "Topic 11: 10, gun crime law amendment section state license military arm citizen\n",
      "Topic 12: 10, morality objective atheists political christian human subjective hudson definition absolute\n",
      "Topic 13: 10, apartment fbi tell building kill shout neighbor door time afraid\n",
      "Topic 14: 10, turkish turks genocide soviet muslim massacre population history greeks republic\n",
      "Topic 15: 10, printer deskjet scanner bubblejet driver laserwriter laserjet printing cartridge inkjet\n",
      "Topic 16: 10, homosexual homosexuality percentage study abortion heterosexual abstinence church rape immoral\n",
      "Topic 17: 10, monitor screen centris adapter mac viewsonic resolution spec vram cable\n",
      "Topic 18: 10, list mail request address grand junk access update car mailbox\n",
      "Topic 19: 10, card driver ati video winmark windows speedstar svga vram genoa\n",
      "Topic 20: 10, court cooper judge cop justice prosecution jury federal testimony lawyer\n",
      "Topic 21: 10, modem fax mac cable chipset send hardware connect gateway supply\n",
      "Topic 22: 10, windows unix application comp mac program gui version toolkit compile\n",
      "Topic 23: 10, allocation windows disk swap error ram crash sys fault mathcad\n",
      "Topic 24: 10, atheist exist god atheism religion belief universe faith premise agnostic\n",
      "Topic 25: 10, polygon sphere intersection outline ellipse algorithm circle delaunay triangulation perpendicular\n",
      "Topic 26: 10, mouse driver button windows apple cursor modem logitech fix hardware\n",
      "Topic 27: 10, newsreader norman email tip forsale nixon author article need cview\n",
      "Topic 28: 10, islam islamic religion atheism genocide bobby koran argument quran sexist\n",
      "Topic 29: 10, compile doug error sunos font ipx patch icon spss cpp\n",
      "Topic 30: 10, ftp site file zip upload download gateway package assembler tutorial\n",
      "Topic 31: 10, font truetype text display xview print bold printer char mac\n",
      "Topic 32: 10, arrogance truth christians absolute belief faith scripture interpretation evangelical blindly\n",
      "Topic 33: 10, rushdie islam islamic muslim fatwa book secular mohammed religion qur\n",
      "Topic 34: 10, telephone hook ring need yellow device led wire lift machine\n",
      "Topic 35: 10, mormon mormons jews temple church christian belief doctrine joseph religion\n",
      "Topic 36: 10, motif widget toolkit interviews interface bug platform ftp mail application\n",
      "Topic 37: 10, science methodology scientific theory study psychology scientist russell evolution experiment\n",
      "Topic 38: 10, drug cocaine people crack thug crime survey illegal pot student\n",
      "Topic 39: 10, president job secretary work think summer package congress community education\n",
      "Topic 40: 10, split newsgroup aspect article alt ieee read crossposte forum sci\n",
      "Topic 41: 10, nuclear fossil heat river technology stage build contamination cylinder oil\n",
      "Topic 42: 10, des key corporate chip bit hardware crack program smart secure\n",
      "Topic 43: 10, libertarian employment govt liberty subject majority state limited lobby constitution\n",
      "Topic 44: 10, helmet impact bat ride shell damage size surface activity piece\n",
      "Topic 45: 10, sabbath paul worship christian sunday church gentiles scripture jewish change\n",
      "Topic 46: 10, government code trust fractal company japanese swiss liberty capitalist communist\n",
      "Topic 47: 10, jewish greenberg player roger steve era art ron list mike\n",
      "Topic 48: 10, window expose event position handler button widget thickframe border rectangle\n",
      "Topic 49: 10, summer room hotel kitchen vacation sale victoria roommate plenty housing\n",
      "Topic 50: 10, voice modem dsp compression cheap clipper software phone hardware data\n",
      "\n",
      "\n",
      "The shape of train set's topic distribution is (11314, 51)\n",
      "Topic Diversity: 0.7269230769230769 (used 0.0006 seconds)\n",
      "Inverted Ranked-Biased Overlap: 0.6858097629334966 (used 0.0683 seconds)\n",
      "Topic Coherence u_mass: -4.51367485106919 (used 1.2153 seconds)\n",
      "Topic Coherence c_v: 0.5637951673806381 (used 11.4573 seconds)\n",
      "Topic Coherence c_npmi: -0.02512435225073106 (used 11.4081 seconds)\n"
     ]
    },
    {
     "name": "stderr",
     "output_type": "stream",
     "text": [
      "Batches: 100%|████████████████████████████████████████████████████████████████████████████████| 236/236 [00:02<00:00, 117.71it/s]\n",
      "2025-03-24 18:50:16,925 - BERTopic - Dimensionality - Reducing dimensionality of input embeddings.\n",
      "2025-03-24 18:50:16,939 - BERTopic - Dimensionality - Completed ✓\n",
      "2025-03-24 18:50:16,940 - BERTopic - Clustering - Approximating new points with `hdbscan_model`\n",
      "2025-03-24 18:50:16,942 - BERTopic - Probabilities - Start calculation of probabilities with HDBSCAN\n",
      "2025-03-24 18:50:16,945 - BERTopic - Probabilities - Completed ✓\n",
      "2025-03-24 18:50:16,945 - BERTopic - Cluster - Completed ✓\n",
      "Training Model with 1 Parameter Combinations: 100%|████████████████████████████████████████████████| 1/1 [00:34<00:00, 34.56s/it]"
     ]
    },
    {
     "name": "stdout",
     "output_type": "stream",
     "text": [
      "func: approximate_predict\n",
      "func: membership_vector\n",
      "The shape of test set's topic distribution is (7532, 51)\n"
     ]
    },
    {
     "name": "stderr",
     "output_type": "stream",
     "text": [
      "\n"
     ]
    },
    {
     "ename": "",
     "evalue": "",
     "output_type": "error",
     "traceback": [
      "\u001b[1;31mThe Kernel crashed while executing code in the current cell or a previous cell. \n",
      "\u001b[1;31mPlease review the code in the cell(s) to identify a possible cause of the failure. \n",
      "\u001b[1;31mClick <a href='https://aka.ms/vscodeJupyterKernelCrash'>here</a> for more info. \n",
      "\u001b[1;31mView Jupyter <a href='command:jupyter.viewOutput'>log</a> for further details."
     ]
    }
   ],
   "source": [
    "# Train and evaluate the model\n",
    "trainer.train_and_evaluate(num_iterations)"
   ]
  }
 ],
 "metadata": {
  "kernelspec": {
   "display_name": "conda_cc",
   "language": "python",
   "name": "python3"
  },
  "language_info": {
   "codemirror_mode": {
    "name": "ipython",
    "version": 3
   },
   "file_extension": ".py",
   "mimetype": "text/x-python",
   "name": "python",
   "nbconvert_exporter": "python",
   "pygments_lexer": "ipython3",
   "version": "3.12.9"
  }
 },
 "nbformat": 4,
 "nbformat_minor": 2
}
