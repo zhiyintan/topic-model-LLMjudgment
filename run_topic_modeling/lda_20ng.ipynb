{
 "cells": [
  {
   "cell_type": "code",
   "execution_count": null,
   "metadata": {},
   "outputs": [],
   "source": [
    "import os\n",
    "os.chdir(\"..\")"
   ]
  },
  {
   "cell_type": "code",
   "execution_count": 1,
   "metadata": {},
   "outputs": [],
   "source": [
    "# Select a topic model\n",
    "model = \"lda\" ; from src.topic_models.lda_model import LDAData, LDAModelTrainer\n",
    "#model = \"prodlda\"; from src.topic_models.prodlda_model_octis import ProdLDAData, ProdLDATrainer\n",
    "#model = \"combinedtm\"; from src.topic_models.combinedtm_model import CombinedTMData, CombinedTMTrainer\n",
    "#model = \"bertopic\"; from src.topic_models.bertopic_model import BERTopicData, BERTopicTrainer"
   ]
  },
  {
   "cell_type": "code",
   "execution_count": null,
   "metadata": {},
   "outputs": [],
   "source": [
    "# Select a dataset\n",
    "dataset = \"20ng\" # vocab: 54437; remove stopwords: 54147\n",
    "preprocessing_params = {\n",
    "    \"vocab_size\": 10000, \n",
    "    \"stopwords\": 'English'}\n",
    "\n",
    "# lda & 20ng: \n",
    "# 1 min per run with cpu only; "
   ]
  },
  {
   "cell_type": "code",
   "execution_count": 3,
   "metadata": {},
   "outputs": [],
   "source": [
    "# List data path\n",
    "train_path = f\"../data/raw/{dataset}/tokenized_train.csv\"\n",
    "test_path = f\"../data/raw/{dataset}/tokenized_test.csv\"\n",
    "\n",
    "# Set result path\n",
    "result_dir = f\"../data/topic_model_output/{dataset}/{model}\""
   ]
  },
  {
   "cell_type": "code",
   "execution_count": 4,
   "metadata": {},
   "outputs": [],
   "source": [
    "# Parameters for model training\n",
    "\n",
    "# how many topic words for each topic to be remained, are they printed\n",
    "num_topic_words = 10\n",
    "print_topic_words = True\n",
    "\n",
    "# run n times\n",
    "num_iterations = 1\n",
    "\n",
    "# to get the topic distribution of test data or not\n",
    "run_test = True\n",
    "\n",
    "# parameters_tuning mode or not\n",
    "mode = '' #'parameters_tuning'"
   ]
  },
  {
   "cell_type": "code",
   "execution_count": 5,
   "metadata": {},
   "outputs": [
    {
     "name": "stdout",
     "output_type": "stream",
     "text": [
      "[(50, 5, 0.5, 0.01, 100, 5000, 0, 0.5, 1, 10, 1.0), (100, 5, 0.5, 0.01, 100, 5000, 0, 0.5, 1, 10, 1.0)]\n"
     ]
    }
   ],
   "source": [
    "# Parameters for topic model, can be revised by go to the definition of \"get_parameter_combinations\"\n",
    "from src.topic_models.utils.data_utils import get_parameter_combinations\n",
    "parameter_combinations = get_parameter_combinations(model)\n",
    "print(parameter_combinations)"
   ]
  },
  {
   "cell_type": "code",
   "execution_count": 8,
   "metadata": {},
   "outputs": [
    {
     "name": "stderr",
     "output_type": "stream",
     "text": [
      "Processing train texts: 100%|██████████| 11314/11314 [00:00<00:00, 13796.04it/s]\n",
      "Processing test texts: 100%|██████████| 7532/7532 [00:00<00:00, 20493.39it/s]\n"
     ]
    }
   ],
   "source": [
    "# Load data\n",
    "lda_data = LDAData(train_path, test_path, preprocessing_params)\n",
    "#prodlda_data = ProdLDAData(train_path, test_path, preprocessing_params)\n",
    "#combinedtm_data = CombinedTMData(train_path, test_path, preprocessing_params)\n",
    "#bertopic_data = BERTopicData(train_path, test_path, preprocessing_params)"
   ]
  },
  {
   "cell_type": "code",
   "execution_count": 9,
   "metadata": {},
   "outputs": [
    {
     "name": "stdout",
     "output_type": "stream",
     "text": [
      "vocabulary size: 54147\n"
     ]
    }
   ],
   "source": [
    "print(f\"vocabulary size: {len(lda_data.train['vocab'])}\")"
   ]
  },
  {
   "cell_type": "code",
   "execution_count": 8,
   "metadata": {},
   "outputs": [],
   "source": [
    "# Prepare model trainer\n",
    "trainer = LDAModelTrainer(lda_data, num_topic_words, parameter_combinations, result_dir, mode=mode, print_topic_words=print_topic_words, run_test=run_test)\n",
    "#trainer = ProdLDATrainer(prodlda_data, num_topic_words, parameter_combinations, result_dir, mode=mode, print_topic_words=print_topic_words, run_test=run_test)\n",
    "#trainer = CombinedTMTrainer(combinedtm_data, num_topic_words, parameter_combinations, result_dir, mode=mode, print_topic_words=print_topic_words, run_test=run_test)\n",
    "#trainer = BERTopicTrainer(bertopic_data, num_topic_words, parameter_combinations, result_dir, mode=mode, print_topic_words=print_topic_words, run_test=run_test)"
   ]
  },
  {
   "cell_type": "code",
   "execution_count": 9,
   "metadata": {},
   "outputs": [
    {
     "name": "stderr",
     "output_type": "stream",
     "text": [
      "Training Model with 2 Parameter Combinations:   0%|          | 0/2 [00:00<?, ?it/s]"
     ]
    },
    {
     "name": "stdout",
     "output_type": "stream",
     "text": [
      "Topic 0: job people work president think year program money congress fund\n",
      "Topic 1: san information billion police angeles francisco los california anti york\n",
      "Topic 2: god jesus bible man christian christ love come word believe\n",
      "Topic 3: people morality objective person death think life moral rule murder\n",
      "Topic 4: stuff moon secure think van sun tony michael happy guess\n",
      "Topic 5: article argument jim science quote ethnic context apr posting statement\n",
      "Topic 6: window hope henrik newsreader peace manager tin display want know\n",
      "Topic 7: program unit music server link cross software disk windows use\n",
      "Topic 8: weapon court expansion legal age capital carry use penalty prison\n",
      "Topic 9: win senior idea bank sign reagan think predict way mix\n",
      "Topic 10: people come know tell think happen start leave woman like\n",
      "Topic 11: government attack minority people force use think state civilian law\n",
      "Topic 12: people believe god religion human church mean exist life christian\n",
      "Topic 13: question post answer newsgroup discussion ask read thread new mike\n",
      "Topic 14: jewish black jews wrong search race delete story know land\n",
      "Topic 15: drug use error correct value plant list crack property line\n",
      "Topic 16: sexual sex double know verdict admit child orientation thing think\n",
      "Topic 17: research secretary president committee organization university material center agency national\n",
      "Topic 18: health care pay private canada condition year average good excellent\n",
      "Topic 19: space earth nasa launch energy orbit mission image satellite flight\n",
      "Topic 20: sound fan left like right screw cheer straight spread funny\n",
      "Topic 21: drive hard tape problem supply internal pin disk work power\n",
      "Topic 22: ground service use radio current box wire switch power need\n",
      "Topic 23: use send mail request address list application user message number\n",
      "Topic 24: chip problem help line count appreciate jordan work memory use\n",
      "Topic 25: steve mark brian dos adam picture peter book date respond\n",
      "Topic 26: palestinians terrorism page torture conference camp final press tank atf\n",
      "Topic 27: gay play pick dog wing warrant reserve free govt record\n",
      "Topic 28: clipper phone patient disease treatment security medical announcement need teacher\n",
      "Topic 29: waste eat favor food big blow perry drug kid bob\n",
      "Topic 30: key game bit algorithm use point block time command method\n",
      "Topic 31: card use bit gaza mode mac fast bus machine ibm\n",
      "Topic 32: file nazi available ftp edu site version archive anonymous format\n",
      "Topic 33: price sell cost sale purchase product staff des market order\n",
      "Topic 34: state people law muslim genocide right government population muslims history\n",
      "Topic 35: good look thank want code help reply know like hear\n",
      "Topic 36: theory screen object speech hole problem time josh light herring\n",
      "Topic 37: crime trial law state police people gay criminal guilty case\n",
      "Topic 38: israel greek people jews kill soldier soviet child come dead\n",
      "Topic 39: fbi read report know local datum news philadelphia accurate suspect\n",
      "Topic 40: study trade cover opinion armed brain parent new river hospital\n",
      "Topic 41: car water good like time ride year new engine mile\n",
      "Topic 42: team think game year lose player play good compromise bad\n",
      "Topic 43: president group troop vote press consider proposal package issue option\n",
      "Topic 44: point liberal medium bias bomb goal zionist conservative bush military\n",
      "Topic 45: write book translation original think sense david marriage read know\n",
      "Topic 46: gun koresh homosexual like tax think right defense shoot time\n",
      "Topic 47: army nazis role iran war movement land libertarian british pain\n",
      "Topic 48: turkish max air von oppress yup sexuality ali biz anxiety\n",
      "Topic 49: run driver build color graphic version kent windows doug like\n",
      "\n",
      "\n",
      "The shape of train set's topic distribution is (11314, 50)\n",
      "Topic Diversity: 0.734 (used 0.0017 seconds)\n",
      "Inverted Ranked-Biased Overlap: 0.6774014009293361 (used 0.1174 seconds)\n",
      "Topic Coherence u_mass: -3.5963497890379945 (used 2.1963 seconds)\n",
      "Topic Coherence c_v: 0.461845157446088 (used 13.1977 seconds)\n",
      "Topic Coherence c_npmi: -0.06299427291186394 (used 18.5041 seconds)\n"
     ]
    },
    {
     "name": "stderr",
     "output_type": "stream",
     "text": [
      "Training Model with 2 Parameter Combinations:  50%|█████     | 1/2 [01:09<01:09, 69.76s/it]"
     ]
    },
    {
     "name": "stdout",
     "output_type": "stream",
     "text": [
      "The shape of test set's topic distribution is (7532, 50)\n",
      "Topic 0: air trade wave spring ron pool hmmm fairly hot receiver\n",
      "Topic 1: john usa lead baltimore americans good join like cup red\n",
      "Topic 2: king dos master speak illegal bear world family stand library\n",
      "Topic 3: person life rule death kill murder people blame independence liberty\n",
      "Topic 4: think know maybe regard like ask yes people friend good\n",
      "Topic 5: argument quote evidence conclusion true statement logic false imply explain\n",
      "Topic 6: window manager application view basically use button review root windows\n",
      "Topic 7: unit error cross link brad disk serial byte run generate\n",
      "Topic 8: limit use restrict prison multi necessarily probably multiple question know\n",
      "Topic 9: win bank joke wide mix tell contract laugh yes bit\n",
      "Topic 10: canada btw canadian beat channel joe offense like seriously north\n",
      "Topic 11: science blood theory marry strength certain think trace point fantasy\n",
      "Topic 12: president drug congress health history job people world american believe\n",
      "Topic 13: algorithm refer method structure use draw completely copyright reverse region\n",
      "Topic 14: key translation original talk think instead thing david implement write\n",
      "Topic 15: delete improve minor update random surprise immediately imho surprised dictionary\n",
      "Topic 16: problem pro moon mode card recall solve confuse hang plus\n",
      "Topic 17: university research job work committee organization summer material student professor\n",
      "Topic 18: player condition average car pay european excellent sport boy license\n",
      "Topic 19: space earth image nasa launch orbit mission satellite flight datum\n",
      "Topic 20: fan board remove pin spread cool screw heat huh lift\n",
      "Topic 21: power supply display graphic usual backing dump core hard drive\n",
      "Topic 22: radio switch sale sell reasonable audio manual shipping gain use\n",
      "Topic 23: send list mail address request info email net thank post\n",
      "Topic 24: text field share panel item line control eric strange chip\n",
      "Topic 25: day date sit stick success time clock minute wise bat\n",
      "Topic 26: terrorism conference medical abortion final paper movement december daily body\n",
      "Topic 27: pick hudson charge dog newspaper face reach govt eye roger\n",
      "Topic 28: clipper school standard lock disease survivor chip phone color house\n",
      "Topic 29: range blow twice automatic acquire mess choice expensive huge remind\n",
      "Topic 30: command status character loss set register use perform setting sequence\n",
      "Topic 31: card chip use bit mac machine memory video bus software\n",
      "Topic 32: nazi german germany hitler press document party escape magazine write\n",
      "Topic 33: price market tax purchase period warrant japanese staff winner prior\n",
      "Topic 34: man male marriage woman event claim having couple dispute objection\n",
      "Topic 35: look code good somebody like know smith possible use jason\n",
      "Topic 36: tyre light screen movie jose film decline park sleep frame\n",
      "Topic 37: order previous tony know think folk use correct sure like\n",
      "Topic 38: greek east new culture member election reporter english ancient texas\n",
      "Topic 39: dangerous version picture newsreader tin datum accurate insist occur candidate\n",
      "Topic 40: cover care kid private parent home hospital figure like extra\n",
      "Topic 41: car engine owner mile tire replace good hall cup like\n",
      "Topic 42: lose option yesterday west compromise station think significance healthy won\n",
      "Topic 43: group public vote proposal issue continue favor propose belong march\n",
      "Topic 44: plane medium liberal bias score goal bomb point conservative legitimate\n",
      "Topic 45: block eat robert intelligence boot associate disk use equal lucifer\n",
      "Topic 46: piece fit damn suit protection imagine wear like good taste\n",
      "Topic 47: role land learn tool army travel horrible spell music fate\n",
      "Topic 48: max yup von biz gen umm atm ahh end mas\n",
      "Topic 49: relationship quick commitment difference partner security soon concept rob assure\n",
      "Topic 50: sound driver edge feed work quickly tape use affect version\n",
      "Topic 51: step mouse load achieve execute transfer scheme bunch buffer hat\n",
      "Topic 52: stay term repeat think guess know need terminal use let\n",
      "Topic 53: center division reality relate bob draft sick naval regular attend\n",
      "Topic 54: model form key object des use bit age reference value\n",
      "Topic 55: policy race paragraph mistake incident credit shit like kick hear\n",
      "Topic 56: interesting ignore difficult like circuit idea use somewhat personally valuable\n",
      "Topic 57: big suppose prefer lot like know people want think pretty\n",
      "Topic 58: gun war peace weapon shoot defense crime military attack control\n",
      "Topic 59: law government people state right authority moral society human think\n",
      "Topic 60: effect force contact straight sign agreement bet rid like visible\n",
      "Topic 61: senior use official high design low rate section neutral general\n",
      "Topic 62: level white resolution element input signal useful output noise moscow\n",
      "Topic 63: israel jews jesus jewish word man christ come son die\n",
      "Topic 64: program money work think fund russia government support important package\n",
      "Topic 65: new news washington york street media america want post gordon\n",
      "Topic 66: game team play player year run think tough good series\n",
      "Topic 67: turn ride speed left advice traffic road pull time fast\n",
      "Topic 68: country hell yeah letter hope western funny racial selfish people\n",
      "Topic 69: van print ring apart canon rick enjoy initiate proud decent\n",
      "Topic 70: point double den like know use howard radius time sphere\n",
      "Topic 71: service offer monitor suggestion local mike interested good friend like\n",
      "Topic 72: article post jim posting answer faq newsgroup alt news usenet\n",
      "Topic 73: drive quality worth slave track reliable normally quantity hard gee\n",
      "Topic 74: black los happy suspect red employ begin area touch report\n",
      "Topic 75: people gay population genocide government court muslim state army troop\n",
      "Topic 76: information san police anti april california city francisco office group\n",
      "Topic 77: ground box connect current cable wire green fault equipment legal\n",
      "Topic 78: available copy ftp edu file site software include information tie\n",
      "Topic 79: doctor steve common southern cause treatment patient complain separate technology\n",
      "Topic 80: context miss good bush racist jew knowledge eastern fair ignorant\n",
      "Topic 81: attack frank brian hole damage percentage plant uniform declare brown\n",
      "Topic 82: billion increase cost energy dollar pain reduce oil budget reaction\n",
      "Topic 83: homosexual sexual man hate labor zionist history excuse train flame\n",
      "Topic 84: respond doubt propaganda statement star defend ability post critical criticism\n",
      "Topic 85: book count poor read database like thing write use people\n",
      "Topic 86: type record convert manage warning expose use string andrew app\n",
      "Topic 87: year ago curious jordan start like time phone later know\n",
      "Topic 88: people come know tell kill child woman soviet leave live\n",
      "Topic 89: search gov ready connection question literature try know athens quit\n",
      "Topic 90: god christian believe religion church love bible life christians belief\n",
      "Topic 91: know change bother brain use client thank cheap try want\n",
      "Topic 92: morality objective fbi case freedom word discussion define speech value\n",
      "Topic 93: feel notice know question thread brother ask shape like think\n",
      "Topic 94: think know bad tell need remember try story like stop\n",
      "Topic 95: test neighbor recent point use good know reference exactly question\n",
      "Topic 96: publish title wing kent cheer ball michael dan scott wall\n",
      "Topic 97: position water opinion river mention save obvious sorry agree nonsense\n",
      "Topic 98: koresh david gas tape know alternative fool child compound branch\n",
      "Topic 99: apr file receive edt com environment host die math permanent\n",
      "\n",
      "\n",
      "The shape of train set's topic distribution is (11314, 100)\n",
      "Topic Diversity: 0.783 (used 0.0037 seconds)\n",
      "Inverted Ranked-Biased Overlap: 0.6754244136412236 (used 0.4501 seconds)\n",
      "Topic Coherence u_mass: -3.7179132992135773 (used 2.4099 seconds)\n",
      "Topic Coherence c_v: 0.4126434398517798 (used 38.4183 seconds)\n",
      "Topic Coherence c_npmi: -0.11736814635159665 (used 24.4712 seconds)\n"
     ]
    },
    {
     "name": "stderr",
     "output_type": "stream",
     "text": [
      "Training Model with 2 Parameter Combinations: 100%|██████████| 2/2 [02:52<00:00, 86.41s/it]"
     ]
    },
    {
     "name": "stdout",
     "output_type": "stream",
     "text": [
      "The shape of test set's topic distribution is (7532, 100)\n"
     ]
    },
    {
     "name": "stderr",
     "output_type": "stream",
     "text": [
      "\n"
     ]
    }
   ],
   "source": [
    "# Train and evaluate the model\n",
    "trainer.train_and_evaluate(num_iterations)"
   ]
  }
 ],
 "metadata": {
  "kernelspec": {
   "display_name": "Agri-venv",
   "language": "python",
   "name": "python3"
  },
  "language_info": {
   "codemirror_mode": {
    "name": "ipython",
    "version": 3
   },
   "file_extension": ".py",
   "mimetype": "text/x-python",
   "name": "python",
   "nbconvert_exporter": "python",
   "pygments_lexer": "ipython3",
   "version": "3.9.18"
  }
 },
 "nbformat": 4,
 "nbformat_minor": 2
}
