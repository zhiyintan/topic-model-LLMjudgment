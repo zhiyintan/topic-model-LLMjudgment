{
 "cells": [
  {
   "cell_type": "code",
   "execution_count": null,
   "metadata": {},
   "outputs": [],
   "source": [
    "import os\n",
    "os.chdir(\"..\")"
   ]
  },
  {
   "cell_type": "code",
   "execution_count": 2,
   "metadata": {},
   "outputs": [
    {
     "name": "stderr",
     "output_type": "stream",
     "text": [
      "/nfs/home/tanz/paper_agri/Agri-venv/lib64/python3.9/site-packages/tqdm/auto.py:21: TqdmWarning: IProgress not found. Please update jupyter and ipywidgets. See https://ipywidgets.readthedocs.io/en/stable/user_install.html\n",
      "  from .autonotebook import tqdm as notebook_tqdm\n"
     ]
    }
   ],
   "source": [
    "# Select a topic model\n",
    "#model = \"lda\" ; from src.topic_models.lda_model import LDAData, LDAModelTrainer\n",
    "model = \"prodlda\"; from src.topic_models.prodlda_model_octis import ProdLDAData, ProdLDATrainer\n",
    "#model = \"combinedtm\"; from src.topic_models.combinedtm_model import CombinedTMData, CombinedTMTrainer\n",
    "#model = \"bertopic\"; from src.topic_models.bertopic_model import BERTopicData, BERTopicTrainer"
   ]
  },
  {
   "cell_type": "code",
   "execution_count": null,
   "metadata": {},
   "outputs": [],
   "source": [
    "# Select a dataset\n",
    "dataset = \"agris\" # vocab: 90604; used agris stopwords vocab: 13354\n",
    "preprocessing_params = {\n",
    "    \"vocab_size\": 10000, \n",
    "    \"stopwords\": 'agris'}\n",
    "\n",
    "# prodlda & agris: \n",
    "# 40 mins per run with cpu only; \n",
    "# 10 mins per run with gpu"
   ]
  },
  {
   "cell_type": "code",
   "execution_count": 4,
   "metadata": {},
   "outputs": [],
   "source": [
    "# List data path\n",
    "train_path = f\"../data/raw/{dataset}/tokenized_train.csv\"\n",
    "test_path = f\"../data/raw/{dataset}/tokenized_test.csv\"\n",
    "\n",
    "# Set result path\n",
    "result_dir = f\"../data/topic_model_output/{dataset}/{model}\""
   ]
  },
  {
   "cell_type": "code",
   "execution_count": 5,
   "metadata": {},
   "outputs": [],
   "source": [
    "# Parameters for model training\n",
    "\n",
    "# how many topic words for each topic to be remained, are they printed\n",
    "num_topic_words = 10\n",
    "print_topic_words = True\n",
    "\n",
    "# run n times\n",
    "num_iterations = 1\n",
    "\n",
    "# to get the topic distribution of test data or not\n",
    "run_test = True\n",
    "\n",
    "# parameters_tuning mode or not\n",
    "mode = '' #'parameters_tuning' # ''"
   ]
  },
  {
   "cell_type": "code",
   "execution_count": 6,
   "metadata": {},
   "outputs": [
    {
     "name": "stdout",
     "output_type": "stream",
     "text": [
      "[(50, 200, 0.1, 0.005, 40), (100, 200, 0.1, 0.005, 40)]\n"
     ]
    }
   ],
   "source": [
    "# Parameters for topic model, can be revised by go to the definition of \"get_parameter_combinations\"\n",
    "from src.topic_models.utils.data_utils import get_parameter_combinations\n",
    "parameter_combinations = get_parameter_combinations(model)\n",
    "print(parameter_combinations)"
   ]
  },
  {
   "cell_type": "code",
   "execution_count": 7,
   "metadata": {},
   "outputs": [
    {
     "name": "stderr",
     "output_type": "stream",
     "text": [
      "Processing train texts: 100%|████████| 454850/454850 [00:05<00:00, 85751.34it/s]\n",
      "Processing test texts: 100%|███████████| 50703/50703 [00:00<00:00, 85521.76it/s]\n"
     ]
    }
   ],
   "source": [
    "# Load data\n",
    "#lda_data = LDAData(train_path, test_path, preprocessing_params)\n",
    "prodlda_data = ProdLDAData(train_path, test_path, preprocessing_params)\n",
    "#combinedtm_data = CombinedTMData(train_path, test_path, preprocessing_params)\n",
    "#bertopic_data = BERTopicData(train_path, test_path, preprocessing_params)"
   ]
  },
  {
   "cell_type": "code",
   "execution_count": 8,
   "metadata": {},
   "outputs": [],
   "source": [
    "# Prepare model trainer\n",
    "#trainer = LDAModelTrainer(lda_data, num_topic_words, parameter_combinations, result_dir, mode=mode, print_topic_words=print_topic_words, run_test=run_test)\n",
    "trainer = ProdLDATrainer(prodlda_data, num_topic_words, parameter_combinations, result_dir, mode=mode, print_topic_words=print_topic_words, run_test=run_test)\n",
    "#trainer = CombinedTMTrainer(combinedtm_data, num_topic_words, parameter_combinations, result_dir, mode=mode, print_topic_words=print_topic_words, run_test=run_test)\n",
    "#trainer = BERTopicTrainer(bertopic_data, num_topic_words, parameter_combinations, result_dir, mode=mode, print_topic_words=print_topic_words, run_test=run_test)"
   ]
  },
  {
   "cell_type": "code",
   "execution_count": 9,
   "metadata": {},
   "outputs": [],
   "source": [
    "# Sample data from training set as corpus for coherence evaluation\n",
    "eval_corpus = None # None, int (sample counts)"
   ]
  },
  {
   "cell_type": "code",
   "execution_count": 10,
   "metadata": {},
   "outputs": [
    {
     "name": "stderr",
     "output_type": "stream",
     "text": [
      "Training Model with 2 Parameter Combinations:   0%|       | 0/2 [00:00<?, ?it/s]"
     ]
    },
    {
     "name": "stdout",
     "output_type": "stream",
     "text": [
      "num_topics:50,\n",
      " hidden_size:200,\n",
      " dropout:0.1,\n",
      " learning_rate:0.005,\n",
      " epochs:40\n",
      "Epoch: [1/40]\tSamples: [454850/18194000]\tTrain Loss: 90.20889638145323\tTime: 0:00:20.751623\n",
      "Epoch: [1/40]\tSamples: [10/400]\tValidation Loss: 64.83822021484374\tTime: 0:00:00.006828\n",
      "Epoch: [2/40]\tSamples: [909700/18194000]\tTrain Loss: 86.05795281557718\tTime: 0:00:20.006311\n",
      "Epoch: [2/40]\tSamples: [10/400]\tValidation Loss: 70.89205932617188\tTime: 0:00:00.003550\n",
      "Epoch: [3/40]\tSamples: [1364550/18194000]\tTrain Loss: 85.50542405293592\tTime: 0:00:22.070802\n",
      "Epoch: [3/40]\tSamples: [10/400]\tValidation Loss: 68.1233642578125\tTime: 0:00:00.007040\n",
      "Epoch: [4/40]\tSamples: [1819400/18194000]\tTrain Loss: 85.18499348546825\tTime: 0:00:21.575364\n",
      "Epoch: [4/40]\tSamples: [10/400]\tValidation Loss: 65.97933349609374\tTime: 0:00:00.005772\n",
      "Epoch: [5/40]\tSamples: [2274250/18194000]\tTrain Loss: 84.85171840124684\tTime: 0:00:20.074195\n",
      "Epoch: [5/40]\tSamples: [10/400]\tValidation Loss: 68.80602416992187\tTime: 0:00:00.008493\n",
      "Epoch: [6/40]\tSamples: [2729100/18194000]\tTrain Loss: 84.5381288455436\tTime: 0:00:20.895801\n",
      "Epoch: [6/40]\tSamples: [10/400]\tValidation Loss: 70.24863891601562\tTime: 0:00:00.007454\n",
      "Early stopping\n",
      "454850 50\n",
      "Topic 0: management resource allocation optimal decision plan practice conservation demand supply\n",
      "Topic 1: drip irrigation sprinkler furrow schedule frequency subsurface regime deficit sdi\n",
      "Topic 2: mean value range coefficient method correlation variation error time square\n",
      "Topic 3: drought tolerance stress tolerant salt genotype heat reproductive moderate trait\n",
      "Topic 4: water supply efficiency demand consumption footprint fresh wue saving requirement\n",
      "Topic 5: rice emission cultivation paddy flood lowland n₂o cropping awd methane\n",
      "Topic 6: analysis spatial distribution structure network component cluster reservoir principal function\n",
      "Topic 7: isolate detect strain bacterial specie disease sequence spp host infection\n",
      "Topic 8: line cultivar variety hybrid environment selection genetic breeding trait location\n",
      "Topic 9: research state scheme project knowledge information program technology institute problem\n",
      "Topic 10: crop requirement rotation cover residue evapotranspiration coefficient maize cropping cotton\n",
      "Topic 11: farm farmer benefit cost farming income adoption access price labor\n",
      "Topic 12: leach nitrate nitrogen phosphorus nutrient fertilization loss uptake solution potassium\n",
      "Topic 13: development local country rural security people poverty urban sector food\n",
      "Topic 14: density weed population specie type row planting disease diversity great\n",
      "Topic 15: plant growth uptake vegetative pot nutrient nacl height saline seedling\n",
      "Topic 16: concentration level limit exceed solid dissolve range ppm chloride total\n",
      "Topic 17: model datum simulation base prediction accuracy weather calibration set optimization\n",
      "Topic 18: river region basin arid lake delta nile catchment sub yellow\n",
      "Topic 19: water deficit stage apply irrigation capacity period treatment season control\n",
      "Topic 20: season winter spring wheat grow maize summer late soybean tillage\n",
      "Topic 21: flow drainage runoff discharge transport drain infiltration sediment loss hydraulic\n",
      "Topic 22: different regime level irrigation salinity method drip saline design plot\n",
      "Topic 23: potato greenhouse tomato green plastic mulch forage grass pasture alfalfa\n",
      "Topic 24: potential stomatal transpiration conductance photosynthetic pressure deficit stem net leaf\n",
      "Topic 25: application control treatment recommend fertilizer manure dose herbicide foliar apply\n",
      "Topic 26: fruit tree orchard olive grape rootstock apple citrus wine harvest\n",
      "Topic 27: activity acid sugar protein oil content salinity soluble enzyme antioxidant\n",
      "Topic 28: day early stage flowering seed date maximum interval germination percent\n",
      "Topic 29: irrigate field irrigated non site rainfed trial dryland capacity paddy\n",
      "Topic 30: treat wastewater effluent chemical reuse sewage waste municipal removal sample\n",
      "Topic 31: production energy consumption product agricultural feed renewable fuel electricity input\n",
      "Topic 32: moisture depth layer profile sandy clay zone conductivity soil loam\n",
      "Topic 33: temperature measurement air canopy flux evapotranspiration daily radiation estimate thermal\n",
      "Topic 34: yield grain component lint wue corn gap produce cotton sorghum\n",
      "Topic 35: block design plot week split spray apply half solution medium\n",
      "Topic 36: high low record net medium ratio produce return value cost\n",
      "Topic 37: risk health human heavy source contamination vegetable pollution metal exposure\n",
      "Topic 38: organic carbon microbial soil matter soc available term amendment aggregate\n",
      "Topic 39: period year annual rainfall average month precipitation seasonal event september\n",
      "Topic 40: exp ssd replenishment msi ¹³c adi burial maximise mineralize nar\n",
      "Topic 41: increase decrease reduce decline trend reduction demand fold wue rate\n",
      "Topic 42: groundwater aquifer shallow sodium recharge suitability ratio ion sar carbonate\n",
      "Topic 43: practice agricultural reduce term scale factor input base management potential\n",
      "Topic 44: adi k₂o ssd maximise h₂o dma nar litre magnetized msi\n",
      "Topic 45: root dry zone shoot weight length total fresh great mass\n",
      "Topic 46: change climate variability scenario adaptation pattern climatic global trend regional\n",
      "Topic 47: adi litre aerate iwp discount sprinkling cessation terminate apri i₁₀₀\n",
      "Topic 48: area land cover cultivate map forest cropland suitable farmland urban\n",
      "Topic 49: index leaf number difference height chlorophyll biomass weight lai parameter\n",
      "\n",
      "\n",
      "The shape of train set's topic distribution is (454850, 50)\n",
      "Topic Diversity: 0.712 (used 0.0013 seconds)\n",
      "Inverted Ranked-Biased Overlap: 0.6597239106747921 (used 0.0636 seconds)\n",
      "Topic Coherence u_mass: -5.119683392497161 (used 14.7879 seconds)\n",
      "Topic Coherence c_v: 0.6070165095128498 (used 47.7533 seconds)\n",
      "Topic Coherence c_npmi: 0.0802089330615397 (used 53.0165 seconds)\n",
      "start to test!!\n",
      "The shape of test set's topic distribution is (50703, 50)\n"
     ]
    },
    {
     "name": "stderr",
     "output_type": "stream",
     "text": [
      "Training Model with 2 Parameter Combinations:  50%|▌| 1/2 [08:47<08:47, 527.30s/"
     ]
    },
    {
     "name": "stdout",
     "output_type": "stream",
     "text": [
      "num_topics:100,\n",
      " hidden_size:200,\n",
      " dropout:0.1,\n",
      " learning_rate:0.005,\n",
      " epochs:40\n",
      "Epoch: [1/40]\tSamples: [454850/18194000]\tTrain Loss: 110.07420923054185\tTime: 0:00:22.176194\n",
      "Epoch: [1/40]\tSamples: [10/400]\tValidation Loss: 81.25062255859375\tTime: 0:00:00.001571\n",
      "Epoch: [2/40]\tSamples: [909700/18194000]\tTrain Loss: 104.07953629960748\tTime: 0:00:21.640076\n",
      "Epoch: [2/40]\tSamples: [10/400]\tValidation Loss: 81.3265380859375\tTime: 0:00:00.008248\n",
      "Epoch: [3/40]\tSamples: [1364550/18194000]\tTrain Loss: 103.11527755420286\tTime: 0:00:21.609261\n",
      "Epoch: [3/40]\tSamples: [10/400]\tValidation Loss: 86.4380126953125\tTime: 0:00:00.004481\n",
      "Epoch: [4/40]\tSamples: [1819400/18194000]\tTrain Loss: 102.7144881201781\tTime: 0:00:21.921946\n",
      "Epoch: [4/40]\tSamples: [10/400]\tValidation Loss: 89.07371826171875\tTime: 0:00:00.011947\n",
      "Epoch: [5/40]\tSamples: [2274250/18194000]\tTrain Loss: 102.43431255275578\tTime: 0:00:22.082755\n",
      "Epoch: [5/40]\tSamples: [10/400]\tValidation Loss: 80.54346923828125\tTime: 0:00:00.008862\n",
      "Epoch: [6/40]\tSamples: [2729100/18194000]\tTrain Loss: 102.22257625368908\tTime: 0:00:21.951026\n",
      "Epoch: [6/40]\tSamples: [10/400]\tValidation Loss: 82.35700073242188\tTime: 0:00:00.015315\n",
      "Epoch: [7/40]\tSamples: [3183950/18194000]\tTrain Loss: 102.08987046618219\tTime: 0:00:23.137499\n",
      "Epoch: [7/40]\tSamples: [10/400]\tValidation Loss: 78.51378173828125\tTime: 0:00:00.012948\n",
      "Epoch: [8/40]\tSamples: [3638800/18194000]\tTrain Loss: 101.99314777348688\tTime: 0:00:20.810988\n",
      "Epoch: [8/40]\tSamples: [10/400]\tValidation Loss: 78.53765869140625\tTime: 0:00:00.015631\n",
      "Epoch: [9/40]\tSamples: [4093650/18194000]\tTrain Loss: 101.89899680921059\tTime: 0:00:20.460740\n",
      "Epoch: [9/40]\tSamples: [10/400]\tValidation Loss: 83.41190185546876\tTime: 0:00:00.014351\n",
      "Epoch: [10/40]\tSamples: [4548500/18194000]\tTrain Loss: 101.83212614333065\tTime: 0:00:23.266080\n",
      "Epoch: [10/40]\tSamples: [10/400]\tValidation Loss: 79.289990234375\tTime: 0:00:00.014815\n",
      "Epoch: [11/40]\tSamples: [5003350/18194000]\tTrain Loss: 101.78516920388499\tTime: 0:00:22.334667\n",
      "Epoch: [11/40]\tSamples: [10/400]\tValidation Loss: 85.76730346679688\tTime: 0:00:00.013989\n",
      "Epoch: [12/40]\tSamples: [5458200/18194000]\tTrain Loss: 101.74327296258382\tTime: 0:00:21.132933\n",
      "Epoch: [12/40]\tSamples: [10/400]\tValidation Loss: 85.11083984375\tTime: 0:00:00.017269\n",
      "Early stopping\n",
      "454850 100\n",
      "Topic 0: project state scheme problem district user action social local stakeholder\n",
      "Topic 1: irrigation scheme deficit regime schedule district frequency sprinkler drip requirement\n",
      "Topic 2: nitrogen fertilizer phosphorus nutrient fertilization uptake apply potassium nitrate urea\n",
      "Topic 3: groundwater aquifer recharge shallow table depletion deep alluvial decline rock\n",
      "Topic 4: distribution land pattern spatial variability cover map degradation vegetation cropland\n",
      "Topic 5: base water content scale surface soil model datum parameter zone\n",
      "Topic 6: area cultivate command million urban km² suitable hectare irrigated unit\n",
      "Topic 7: fruit harvest grape berry size wine tomato storage rdi sugar\n",
      "Topic 8: loss reduce drainage runoff leach drain nitrate subsurface reduction surface\n",
      "Topic 9: deficit regime irrigation stage apply drip schedule efficiency wue yield\n",
      "Topic 10: medium material substrate form filter cell sand particle solution type\n",
      "Topic 11: soil moisture profile amendment sandy available layer texture heavy clay\n",
      "Topic 12: exp core agric deprivation adi apri photosynthate droughte salinized distil\n",
      "Topic 13: cost operation benefit optimal network power pump reservoir optimization energy\n",
      "Topic 14: datum image map satellite information resolution set classification series weather\n",
      "Topic 15: salinity salt saline nacl tolerance tolerant sodicity sodic ion chloride\n",
      "Topic 16: drip sprinkler furrow subsurface fertigation mulch emitter plastic uniformity lateral\n",
      "Topic 17: plant height uptake density pot inoculate tissue leave treat number\n",
      "Topic 18: apply time plot interval day sub recommend split dose depth\n",
      "Topic 19: potential deficit stomatal pressure conductance mpa midday stem transpiration osmotic\n",
      "Topic 20: rice cultivation paddy lowland flood aerobic upland cropping flooding awd\n",
      "Topic 21: season grow wet rainy summer dry winter end spring late\n",
      "Topic 22: basin river lake hydrological catchment dam sub delta yellow nile\n",
      "Topic 23: tree orchard olive rootstock citrus apple old young graft peach\n",
      "Topic 24: grain yield filling component reduction spike gap straw biomass maximum\n",
      "Topic 25: fertilization organic biomass nitrogen carbon microbial residue term manure straw\n",
      "Topic 26: index vegetation difference relationship canopy correlation ndvi reflectance correlate normalize\n",
      "Topic 27: cropping potato cultivation rainfed production maize wheat feed vegetable cotton\n",
      "Topic 28: design block clay loam sandy fine sand mixed plot split\n",
      "Topic 29: management practice decision conservation plan pest resource information knowledge policy\n",
      "Topic 30: produce tomato chemical vegetable nutrient source total fresh waste product\n",
      "Topic 31: solution nutrient pot seedling zone grow uptake tomato root greenhouse\n",
      "Topic 32: seed germination date oil number percentage difference produce pod sow\n",
      "Topic 33: farm farmer household income farming access market family smallholder adoption\n",
      "Topic 34: emission greenhouse co₂ carbon flux n₂o ghg oxide ch₄ methane\n",
      "Topic 35: application rate foliar recommend manure photosynthetic fertilizer biochar urea apply\n",
      "Topic 36: water deficit wue supply efficiency saving consumption footprint requirement stress\n",
      "Topic 37: isolate strain symptom vitro methyl fungus phytophthora infect assay oxysporum\n",
      "Topic 38: total content decrease soluble relative chlorophyll sugar reduction protein ratio\n",
      "Topic 39: wsc deprivation adi wdi bundle geranium droughte distil normalise apri\n",
      "Topic 40: region arid humid climatic east desert province oasis zone temperate\n",
      "Topic 41: adi photosynthate girth droughte normalise salinized apri dis wsi midstream\n",
      "Topic 42: period scenario rainfall base annual time precipitation estimate average net\n",
      "Topic 43: concentration solution nitrate no₃ tissue chloride potassium calcium limit exceed\n",
      "Topic 44: environment genotype trait genetic selection drought tolerance qtl tolerant line\n",
      "Topic 45: practice reduce input potential term loss agricultural management nutrient risk\n",
      "Topic 46: factor analysis component principal cluster correlation variable group sensitivity variance\n",
      "Topic 47: dry number weight matter length wet biomass fresh height shoot\n",
      "Topic 48: range respectively value average mean maximum percent reach annual error\n",
      "Topic 49: temperature variation air seasonal precipitation difference trend wind rainfall radiation\n",
      "Topic 50: corn forage great feed pasture alfalfa manure sorghum grass animal\n",
      "Topic 51: agricultural urban service ecosystem ecological activity human local rural farming\n",
      "Topic 52: droughte adi replenish distil tsp deprivation radiative dma kermanshah girth\n",
      "Topic 53: stage number high low dry grain weight density early plant\n",
      "Topic 54: depth surface layer deep moisture profile zone density table time\n",
      "Topic 55: sample detect type coli site sampling hco₃ limit detection coliform\n",
      "Topic 56: yield produce component grain lint soybean corn cotton oil average\n",
      "Topic 57: planting cotton tillage conventional row density date soybean bed mulch\n",
      "Topic 58: quality parameter sodium ratio sar suitable suitability adsorption index standard\n",
      "Topic 59: research technology information knowledge adoption institute practice program university grower\n",
      "Topic 60: irrigate irrigated non rainfed dryland site rain lowland cropland feed\n",
      "Topic 61: estimate evapotranspiration evaporation measurement actual daily heat equation coefficient flux\n",
      "Topic 62: method base time sensor test point series measurement conventional detection\n",
      "Topic 63: irrigation surface drainage reduce water saline furrow drip flood depth\n",
      "Topic 64: adi salinized denote droughte cwu wsi apri replenish swb deprivation\n",
      "Topic 65: field site paddy scale trial capacity test location open measurement\n",
      "Topic 66: wastewater treat effluent reuse sewage municipal industrial waste reclaimed pharmaceutical\n",
      "Topic 67: year period annual rainfall old average month precipitation trend normal\n",
      "Topic 68: production energy consumption input cycle vegetable fuel function biomass renewable\n",
      "Topic 69: level low decline salinity moderate reach medium high sea capacity\n",
      "Topic 70: cultivar variety hybrid line trial breeding selection resistant resistance susceptible\n",
      "Topic 71: wheat maize winter spring barley cropping sorghum bean durum summer\n",
      "Topic 72: different type regime scenario location climatic test optimal term variation\n",
      "Topic 73: development country food security rural poverty people national livelihood population\n",
      "Topic 74: efficiency net return wue benefit ratio cost input gross saving\n",
      "Topic 75: stress drought tolerance heat moderate recovery tolerant expression photosynthetic antioxidant\n",
      "Topic 76: organic chemical matter dissolve fraction carbon total mineral solid conductivity\n",
      "Topic 77: green summer grass perennial spring month great cover turfgrass roof\n",
      "Topic 78: water supply source ground fresh surface reclaimed drinking consumption quality\n",
      "Topic 79: mean regression error square coefficient linear variable prediction rmse daily\n",
      "Topic 80: supply water demand requirement allocation storage consumption available resource reservoir\n",
      "Topic 81: population disease resistance gene bacterial bacteria pathogen isolate group microbial\n",
      "Topic 82: risk heavy health metal human limit contamination vegetable pollution arsenic\n",
      "Topic 83: growth stage vegetative seedling reproductive early germination tomato flowering uptake\n",
      "Topic 84: treatment difference receive control apply respectively wastewater rdi reduction removal\n",
      "Topic 85: leaf stem leave stomatal conductance transpiration photosynthetic height diameter light\n",
      "Topic 86: root zone leave shoot uptake length content sugar biomass square\n",
      "Topic 87: specie community ecosystem landscape habitat diversity fish structure wetland native\n",
      "Topic 88: crop requirement coefficient rotation cover evapotranspiration residue diversification vegetable cereal\n",
      "Topic 89: acid activity compound oil protein enzyme extract antioxidant fatty phenolic\n",
      "Topic 90: demand resource supply sector allocation global regional nexus policy energy\n",
      "Topic 91: flow hydraulic discharge pressure head infiltration function transport volume velocity\n",
      "Topic 92: change climate adaptation scenario global variability regional climatic vulnerability rcp\n",
      "Topic 93: process source sediment reservoir canal lake stream channel pond dam\n",
      "Topic 94: control weed plot herbicide pest spray insecticide disease pre split\n",
      "Topic 95: day early week late flowering stage interval harvest period date\n",
      "Topic 96: model simulation optimization uncertainty prediction scenario programming calibration linear swat\n",
      "Topic 97: low high record medium produce density resolution value ratio moderate\n",
      "Topic 98: increase decrease decline trend demand population fold precipitation wue temperature\n",
      "Topic 99: moisture soil profile layer texture conductivity clay sandy hydraulic depth\n",
      "\n",
      "\n",
      "The shape of train set's topic distribution is (454850, 100)\n",
      "Topic Diversity: 0.349 (used 0.0019 seconds)\n",
      "Inverted Ranked-Biased Overlap: 0.6641151568001045 (used 0.2500 seconds)\n",
      "Topic Coherence u_mass: -5.041467777141044 (used 15.1711 seconds)\n",
      "Topic Coherence c_v: 0.6178431645639736 (used 57.5278 seconds)\n",
      "Topic Coherence c_npmi: 0.08692223344764843 (used 62.4648 seconds)\n",
      "start to test!!\n",
      "The shape of test set's topic distribution is (50703, 100)\n"
     ]
    },
    {
     "name": "stderr",
     "output_type": "stream",
     "text": [
      "Training Model with 2 Parameter Combinations: 100%|█| 2/2 [20:52<00:00, 626.28s/\n"
     ]
    }
   ],
   "source": [
    "# Train and evaluate the model\n",
    "trainer.train_and_evaluate(num_iterations, eval_corpus=eval_corpus)"
   ]
  },
  {
   "cell_type": "code",
   "execution_count": 11,
   "metadata": {},
   "outputs": [],
   "source": [
    "# Train and evaluate the model\n",
    "#trainer.train_and_evaluate(num_iterations, eval_corpus=eval_corpus)"
   ]
  }
 ],
 "metadata": {
  "kernelspec": {
   "display_name": "Python 3 (ipykernel)",
   "language": "python",
   "name": "python3"
  },
  "language_info": {
   "codemirror_mode": {
    "name": "ipython",
    "version": 3
   },
   "file_extension": ".py",
   "mimetype": "text/x-python",
   "name": "python",
   "nbconvert_exporter": "python",
   "pygments_lexer": "ipython3",
   "version": "3.9.18"
  }
 },
 "nbformat": 4,
 "nbformat_minor": 2
}
