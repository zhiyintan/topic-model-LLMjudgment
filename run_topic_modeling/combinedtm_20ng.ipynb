{
 "cells": [
  {
   "cell_type": "code",
   "execution_count": null,
   "metadata": {},
   "outputs": [],
   "source": [
    "import os\n",
    "os.chdir(\"..\")"
   ]
  },
  {
   "cell_type": "code",
   "execution_count": 1,
   "metadata": {},
   "outputs": [
    {
     "name": "stderr",
     "output_type": "stream",
     "text": [
      "/nfs/home/tanz/paper_agri/Agri-venv/lib64/python3.9/site-packages/tqdm/auto.py:21: TqdmWarning: IProgress not found. Please update jupyter and ipywidgets. See https://ipywidgets.readthedocs.io/en/stable/user_install.html\n",
      "  from .autonotebook import tqdm as notebook_tqdm\n"
     ]
    }
   ],
   "source": [
    "# Select a topic model\n",
    "#model = \"lda\" ; from src.topic_models.lda_model import LDAData, LDAModelTrainer\n",
    "#model = \"prodlda\"; from src.topic_models.prodlda_model_octis import ProdLDAData, ProdLDATrainer\n",
    "model = \"combinedtm\"; from src.topic_models.combinedtm_model import CombinedTMData, CombinedTMTrainer\n",
    "#model = \"bertopic\"; from src.topic_models.bertopic_model import BERTopicData, BERTopicTrainer"
   ]
  },
  {
   "cell_type": "code",
   "execution_count": null,
   "metadata": {},
   "outputs": [],
   "source": [
    "# Select a dataset\n",
    "dataset = \"20ng\" # vocab: 54437; remove stopwords: 54147\n",
    "preprocessing_params = {\n",
    "    \"vocab_size\": 10000, \n",
    "    \"stopwords\": 'English'}\n",
    "\n",
    "# combinedtm & 20ng: \n",
    "# 2 mins per run with cpu only; \n"
   ]
  },
  {
   "cell_type": "code",
   "execution_count": 3,
   "metadata": {},
   "outputs": [],
   "source": [
    "# List data path\n",
    "train_path = f\"../data/raw/{dataset}/tokenized_train.csv\"\n",
    "test_path = f\"../data/raw/{dataset}/tokenized_test.csv\"\n",
    "\n",
    "# Set result path\n",
    "result_dir = f\"../data/topic_model_output/{dataset}/{model}\""
   ]
  },
  {
   "cell_type": "code",
   "execution_count": 4,
   "metadata": {},
   "outputs": [],
   "source": [
    "# Parameters for model training\n",
    "\n",
    "# how many topic words for each topic to be remained, are they printed\n",
    "num_topic_words = 10\n",
    "print_topic_words = True\n",
    "\n",
    "# run n times\n",
    "num_iterations = 1\n",
    "\n",
    "# to get the topic distribution of test data or not\n",
    "run_test = True\n",
    "\n",
    "# parameters_tuning mode or not\n",
    "mode = '' #'parameters_tuning' # ''"
   ]
  },
  {
   "cell_type": "code",
   "execution_count": 5,
   "metadata": {},
   "outputs": [
    {
     "name": "stdout",
     "output_type": "stream",
     "text": [
      "[(50, 200, 0.1, 0.005, 40), (100, 200, 0.1, 0.005, 40)]\n"
     ]
    }
   ],
   "source": [
    "# Parameters for topic model, can be revised by go to the definition of \"get_parameter_combinations\"\n",
    "from src.topic_models.utils.data_utils import get_parameter_combinations\n",
    "parameter_combinations = get_parameter_combinations(model)\n",
    "print(parameter_combinations)"
   ]
  },
  {
   "cell_type": "code",
   "execution_count": 6,
   "metadata": {},
   "outputs": [
    {
     "name": "stderr",
     "output_type": "stream",
     "text": [
      "Processing train texts: 100%|██████████| 11314/11314 [00:01<00:00, 10402.06it/s]\n",
      "/nfs/home/tanz/paper_agri/Agri-venv/lib64/python3.9/site-packages/contextualized_topic_models/utils/data_preparation.py:64: UserWarning: the longest document in your collection has 12072 words, the model instead truncates to 128 tokens.\n",
      "  warnings.warn(\n",
      "Batches: 100%|██████████| 57/57 [01:19<00:00,  1.39s/it]\n",
      "Processing test texts: 100%|██████████| 7532/7532 [00:00<00:00, 10810.34it/s]\n",
      "/nfs/home/tanz/paper_agri/Agri-venv/lib64/python3.9/site-packages/contextualized_topic_models/utils/data_preparation.py:64: UserWarning: the longest document in your collection has 8921 words, the model instead truncates to 128 tokens.\n",
      "  warnings.warn(\n",
      "Batches: 100%|██████████| 38/38 [00:50<00:00,  1.33s/it]\n"
     ]
    }
   ],
   "source": [
    "# Load data\n",
    "#lda_data = LDAData(train_path, test_path, preprocessing_params)\n",
    "#prodlda_data = ProdLDAData(train_path, test_path, preprocessing_params)\n",
    "combinedtm_data = CombinedTMData(train_path, test_path, preprocessing_params)\n",
    "#bertopic_data = BERTopicData(train_path, test_path, preprocessing_params)"
   ]
  },
  {
   "cell_type": "code",
   "execution_count": 7,
   "metadata": {},
   "outputs": [
    {
     "name": "stdout",
     "output_type": "stream",
     "text": [
      "vocabulary size: 10000\n"
     ]
    }
   ],
   "source": [
    "print(f\"vocabulary size: {len(combinedtm_data.train['vocab'])}\")"
   ]
  },
  {
   "cell_type": "code",
   "execution_count": 10,
   "metadata": {},
   "outputs": [],
   "source": [
    "# Prepare model trainer\n",
    "#trainer = LDAModelTrainer(lda_data, num_topic_words, parameter_combinations, result_dir, mode=mode, print_topic_words=print_topic_words, run_test=run_test)\n",
    "#trainer = ProdLDATrainer(prodlda_data, num_topic_words, parameter_combinations, result_dir, mode=mode, print_topic_words=print_topic_words, run_test=run_test)\n",
    "trainer = CombinedTMTrainer(combinedtm_data, num_topic_words, parameter_combinations, result_dir, mode=mode, print_topic_words=print_topic_words, run_test=run_test)\n",
    "#trainer = BERTopicTrainer(bertopic_data, num_topic_words, parameter_combinations, result_dir, mode=mode, print_topic_words=print_topic_words, run_test=run_test)"
   ]
  },
  {
   "cell_type": "code",
   "execution_count": 9,
   "metadata": {},
   "outputs": [
    {
     "name": "stderr",
     "output_type": "stream",
     "text": [
      "Epoch: [40/40]\t Seen Samples: [448000/452560]\tTrain Loss: 437.9684047154018\tTime: 0:00:05.142864: : 40it [05:40,  8.50s/it] \n",
      "100%|██████████| 57/57 [00:03<00:00, 18.34it/s]\n"
     ]
    },
    {
     "name": "stdout",
     "output_type": "stream",
     "text": [
      "Topic 0: performer pimental amusement realityengine meteosat cruel incorporated convolution assertaine multiprocessor\n",
      "Topic 1: christian christians heaven sin love bible easter prayer resurrection christ\n",
      "Topic 2: atf fbi museum terrorism missile enclose surrender affair bosnia backing\n",
      "Topic 3: performer pimental realityengine incorporated abundance meteosat startrek convolution coefficient multiprocessor\n",
      "Topic 4: window application manager display set font motif problem event user\n",
      "Topic 5: ryan prediction talent performer chop cup realityengine multiprocessor pimental thumb\n",
      "Topic 6: display window font thank graphic color screen file advance client\n",
      "Topic 7: team game max player play win cup end fan air\n",
      "Topic 8: presentation seminar authors sphere address warfare presentations byoh shiek visualization\n",
      "Topic 9: ride cool helmet car boom nuclear shift road horse engine\n",
      "Topic 10: team cup fan abc roger toronto player sport game pen\n",
      "Topic 11: graphic graphics thank site gif advance email hello domain location\n",
      "Topic 12: clipper chip phone announcement key white house communication government legal\n",
      "Topic 13: study sensitivity msg food effect headache medical disease cause flavor\n",
      "Topic 14: daily humor promise ignorance kent performer proud pimental realityengine tammy\n",
      "Topic 15: disk file image problem use windows input case model error\n",
      "Topic 16: advance anybody gif viewer thank compile archie indiana download animation\n",
      "Topic 17: gun libertarian economic tax crime sales spending ban amendment legal\n",
      "Topic 18: performer pimental multiprocessor incorporated correspnde smattering realityengine drawings meteosat twosie\n",
      "Topic 19: right law state amendment second use mean government case people\n",
      "Topic 20: buy car monitor printer price manual service wire cheap portable\n",
      "Topic 21: genocide today turks mountain escape shoot single soul population homeland\n",
      "Topic 22: car temperature speed mile time light tire high rotate limit\n",
      "Topic 23: team player game play year good hit win bad fan\n",
      "Topic 24: clinic ussr sensitivity risk resident bush taste concentrate nuclear health\n",
      "Topic 25: jewish university history professor jews stanford century power greek new\n",
      "Topic 26: card monitor chip scsi drive video use mac windows fast\n",
      "Topic 27: gun law file secretly space information san allege year anti\n",
      "Topic 28: isa slot performance board slow upgrade motherboard bus spec cpu\n",
      "Topic 29: god good jesus time man day thing behold betray crucifixion\n",
      "Topic 30: people know time like come right think look tell want\n",
      "Topic 31: god law church islam islamic christ marriage world bosnia jewish\n",
      "Topic 32: morality atheists objective islam islamic keith political moral jon definition\n",
      "Topic 33: use version available machine key bit number write software code\n",
      "Topic 34: drive problem disk hard boot cable scsi quantum error duo\n",
      "Topic 35: chip clipper serial modem bit scsi speed board fast apple\n",
      "Topic 36: god truth argument true believe christians evidence arrogance reason claim\n",
      "Topic 37: game team bob jeff copy gary minnesota john chicago mike\n",
      "Topic 38: performer pimental incorporated smattering realityengine monterey abundance meteosat publically winn\n",
      "Topic 39: card video mouse driver diamond ati ultra switch instal setting\n",
      "Topic 40: gun swinburne christian good problem humanism prometheus like hitler love\n",
      "Topic 41: sale offer sell interested condition shipping price brand forsale trade\n",
      "Topic 42: mail space sci internet news security content faq message key\n",
      "Topic 43: announcement walker systems newsreader corporation clipper shelf tcp corporate lobbying\n",
      "Topic 44: space power use high info include satellite image strategic thrust\n",
      "Topic 45: performer pimental incorporated winn handicap smattering amusement danke laze booboo\n",
      "Topic 46: question god exist religion life believe good use morality thing\n",
      "Topic 47: think year work thank question program need try want government\n",
      "Topic 48: performer pimental incorporated sum smattering undecidable nonexclusive laze mythic realityengine\n",
      "Topic 49: israel peace gun crime control state syria death fbi civilian\n",
      "\n",
      "\n"
     ]
    },
    {
     "name": "stderr",
     "output_type": "stream",
     "text": [
      "100%|██████████| 57/57 [00:03<00:00, 17.94it/s]\n"
     ]
    },
    {
     "name": "stdout",
     "output_type": "stream",
     "text": [
      "The shape of train set's topic distribution is (11314, 50)\n",
      "Topic Diversity: 0.548 (used 0.0017 seconds)\n",
      "Inverted Ranked-Biased Overlap: 0.6825800415012586 (used 0.1136 seconds)\n",
      "Topic Coherence u_mass: -5.416100136798281 (used 2.3618 seconds)\n",
      "Topic Coherence c_v: 0.5189166345623247 (used 14.6038 seconds)\n",
      "Topic Coherence c_npmi: -0.050705779249874905 (used 15.3219 seconds)\n"
     ]
    },
    {
     "name": "stderr",
     "output_type": "stream",
     "text": [
      "100%|██████████| 38/38 [00:03<00:00, 11.27it/s]\n"
     ]
    },
    {
     "name": "stdout",
     "output_type": "stream",
     "text": [
      "The shape of test set's topic distribution is (7532, 50)\n"
     ]
    },
    {
     "name": "stderr",
     "output_type": "stream",
     "text": [
      "Epoch: [40/40]\t Seen Samples: [448000/452560]\tTrain Loss: 454.3557596261161\tTime: 0:00:05.883776: : 40it [03:54,  5.86s/it] \n",
      "100%|██████████| 57/57 [00:03<00:00, 15.26it/s]\n"
     ]
    },
    {
     "name": "stdout",
     "output_type": "stream",
     "text": [
      "Topic 0: problem mouse drive boot disk switch fix floppy fine instal\n",
      "Topic 1: problem boot drive disk apple windows memory mouse help mac\n",
      "Topic 2: svhs zach jaws itor toasterhead kelseyyrki montage orientiation cdq torkel\n",
      "Topic 3: version software graphic available mail public windows user machine gnu\n",
      "Topic 4: clipper government announcement white house libertarian chip agency federal citizen\n",
      "Topic 5: hello cube password sphere geometry systems newsreader moselem unresolvable differet\n",
      "Topic 6: israel peace terrorism fbi favor waste kill reporter sexual jewish\n",
      "Topic 7: drug right usage inalienable people amendment free study bear psychology\n",
      "Topic 8: kent daily amusing heart promise atheists dating jon ignorance sink\n",
      "Topic 9: clipper chip key phone cheap algorithm secure voice acceptance serial\n",
      "Topic 10: announcement white lobby april washington abc bush prize museum schedule\n",
      "Topic 11: problem window windows disk file run screen error mouse fine\n",
      "Topic 12: thank year work people lot need think program thing want\n",
      "Topic 13: price offer pay sale sell speaker stereo deck buy receiver\n",
      "Topic 14: graphic thank graphics mail format advance appreciate email internet site\n",
      "Topic 15: sustain microcontroller heavily zach trumpet asked kelseyyrki torkel jaws newusers\n",
      "Topic 16: like want know think time people window look ask problem\n",
      "Topic 17: musical zach enjoyable kelseyyrki iteration ulman torkel newusers explicable kck\n",
      "Topic 18: life god bible jesus christ love sin heaven experience feeling\n",
      "Topic 19: team game player play hit year fan score compare bad\n",
      "Topic 20: law jews jewish citizenship prevail nazis book great case german\n",
      "Topic 21: zach descendent kelseyyrki torkel unresolvable explicable newusers reliogious tims kck\n",
      "Topic 22: sale modem offer printer monitor pin brand manual interested floppy\n",
      "Topic 23: atheists lobbying apologize concentrate keith cruel rude purge percentage zach\n",
      "Topic 24: windows use drive file application problem driver disk car division\n",
      "Topic 25: gun crime ride fbi rate atf self cop violent watch\n",
      "Topic 26: cup sport pen fan prediction red tie thumb toronto captain\n",
      "Topic 27: bush temporary crowley zach kelseyyrki torkel newusers kck stoesser achim\n",
      "Topic 28: viewer cica compile animation cview fashion bitmap terminal anybody thanx\n",
      "Topic 29: msg christianity church science christian human bible question reason god\n",
      "Topic 30: information san law francisco religion include police allege believe new\n",
      "Topic 31: anybodys zach likeps radious kelseyyrki differet indecision seldes kubota explicable\n",
      "Topic 32: mail key use email datum send faq sci information directory\n",
      "Topic 33: bible christ heaven christians sin teach prayer christian verse promise\n",
      "Topic 34: scsi fast drive monitor mode card mac buy port board\n",
      "Topic 35: cica indiana zip anybody utility wallpaper ini download adobe newsreader\n",
      "Topic 36: problem windows use scsi drive memory run mac hard disk\n",
      "Topic 37: christian islamic islam christianity religion moral belief discuss morality statement\n",
      "Topic 38: enjoyable zach svhs kelseyyrki fashion kubota multiprocessor torkel rosch itor\n",
      "Topic 39: people like come help time run know think year live\n",
      "Topic 40: zach explicable svhs rosch kelseyyrki booboo torkel itor liscense toasterhead\n",
      "Topic 41: screen image line display input use window write jpeg quantizer\n",
      "Topic 42: window set screen file font input display help value windows\n",
      "Topic 43: israel jewish muslim nazi christ peace christianity islam islamic easter\n",
      "Topic 44: window display manager widget application client default compile character motif\n",
      "Topic 45: card fast video upgrade motherboard bus speed board ram scsi\n",
      "Topic 46: motif appreciate thank code advance unix file character application window\n",
      "Topic 47: vacuum engineering clipper sphere shelf temporary scheme film nuclear geometry\n",
      "Topic 48: buy car engine service speed cable manual wire load check\n",
      "Topic 49: israel peace agree gulf civilian iraqis casualty case hussein kuwait\n",
      "Topic 50: morality political keith sex objective percentage atheists animal anecdote kent\n",
      "Topic 51: god law christ kingdom believe teach church heretical spirit father\n",
      "Topic 52: window manager set problem color button display event application main\n",
      "Topic 53: mosque body massacre january claim year denial moslem hill troop\n",
      "Topic 54: helmet engine concept paint shift car leak nuclear ride cool\n",
      "Topic 55: player msg food study sensitivity cause effect gun patient reaction\n",
      "Topic 56: proud funny suprise zach svhs kelseyyrki explicable indecision torkel newusers\n",
      "Topic 57: zach reliogious shackle kelseyyrki torkel newusers rosch christianic kck gradation\n",
      "Topic 58: clipper police file fbi information intelligence key law san operative\n",
      "Topic 59: cup patrick toronto bob van winnipeg pen stevens montreal smith\n",
      "Topic 60: max end biz mas yuv lose axl game gen chz\n",
      "Topic 61: think government year program loan look package creative assistance continue\n",
      "Topic 62: drive scsi chip fast speed use key card mode software\n",
      "Topic 63: today genocide population close government soul exterminate muslim mountain long\n",
      "Topic 64: game gun play good water cost fast ride car speed\n",
      "Topic 65: cloud outward mass year earth outer kilogram viking space orbit\n",
      "Topic 66: sale offer sell shipping condition price forsale mile stereo cassette\n",
      "Topic 67: gun government buy clipper law tool felon crime allow control\n",
      "Topic 68: email post mail moderated file space bulletin info directory list\n",
      "Topic 69: space technology sponsor maryland redesign station attend videotape navy reproduce\n",
      "Topic 70: post help problem question good exist existence doctor commentary bloom\n",
      "Topic 71: man israel god jesus weep good use betray moses behold\n",
      "Topic 72: sale offer sell interested condition genesis shipping price sleeve item\n",
      "Topic 73: board driver monitor motherboard apple upgrade video simms quadra intel\n",
      "Topic 74: sale new interested price june copy include mail sponsor sell\n",
      "Topic 75: card video bus controller isa slow diamond vesa cards slot\n",
      "Topic 76: god believe religion question religious true thing sceptical dogmatic assume\n",
      "Topic 77: truth god believe arrogance christians christianity claim true exist reason\n",
      "Topic 78: drive motherboard board apple hard supply card internal port buy\n",
      "Topic 79: jaws svhs enjoyable zach languagine scenary explicable iteration rosch mislead\n",
      "Topic 80: engine buy car circuit ground signal wire electrical switch tube\n",
      "Topic 81: sphere temporary distance polygon jupiter orbit gamma timer sunset engineering\n",
      "Topic 82: printer price dos disk print sale cable keyboard original offer\n",
      "Topic 83: clipper key chip bit serial algorithm encrypt brute secure use\n",
      "Topic 84: enjoyable explicable zach musical svhs sustain suprise overscan rosch kelseyyrki\n",
      "Topic 85: cost big water engine cool nuclear ride launch plant station\n",
      "Topic 86: crime punishment fbi innocent gun prosecute civil likely law commit\n",
      "Topic 87: team game play player fan year series cup toronto lose\n",
      "Topic 88: anybody thanx cica download utility ghostscript viewer postscript drivers animation\n",
      "Topic 89: moral islam morality heterosexual objective action society evidence science objectively\n",
      "Topic 90: percentage sensitivity msg risk abortion concentrate homosexual yeah reaction gay\n",
      "Topic 91: zach tabloid kelseyyrki explicable torkel newusers itor toasterhead languagine reliogious\n",
      "Topic 92: game fan team hit play ride sport engine player pretty\n",
      "Topic 93: game point play team year good run line goal player\n",
      "Topic 94: scsi card transfer controller fast interface memory datum bus drive\n",
      "Topic 95: team win mike patrick craig lang steve game joe kevin\n",
      "Topic 96: color video file run mach memory mode card server display\n",
      "Topic 97: enjoyable zach svhs sustain kelseyyrki torkel newusers kck stoesser achim\n",
      "Topic 98: backing mislead zach enclose massive kelseyyrki surrender zeit torkel rosch\n",
      "Topic 99: mail email interested book appreciate info sale ink paper audio\n",
      "\n",
      "\n"
     ]
    },
    {
     "name": "stderr",
     "output_type": "stream",
     "text": [
      "100%|██████████| 57/57 [00:03<00:00, 14.79it/s]\n"
     ]
    },
    {
     "name": "stdout",
     "output_type": "stream",
     "text": [
      "The shape of train set's topic distribution is (11314, 100)\n",
      "Topic Diversity: 0.346 (used 0.0026 seconds)\n",
      "Inverted Ranked-Biased Overlap: 0.6789747501958561 (used 0.4522 seconds)\n",
      "Topic Coherence u_mass: -5.818956680181539 (used 2.3631 seconds)\n",
      "Topic Coherence c_v: 0.5205053813007419 (used 19.2664 seconds)\n",
      "Topic Coherence c_npmi: -0.050154622565069876 (used 19.8286 seconds)\n"
     ]
    },
    {
     "name": "stderr",
     "output_type": "stream",
     "text": [
      "100%|██████████| 38/38 [00:04<00:00,  7.64it/s]"
     ]
    },
    {
     "name": "stdout",
     "output_type": "stream",
     "text": [
      "The shape of test set's topic distribution is (7532, 100)\n"
     ]
    },
    {
     "name": "stderr",
     "output_type": "stream",
     "text": [
      "\n"
     ]
    }
   ],
   "source": [
    "# Train and evaluate the model\n",
    "trainer.train_and_evaluate(num_iterations)"
   ]
  }
 ],
 "metadata": {
  "kernelspec": {
   "display_name": "Agri-venv",
   "language": "python",
   "name": "python3"
  },
  "language_info": {
   "codemirror_mode": {
    "name": "ipython",
    "version": 3
   },
   "file_extension": ".py",
   "mimetype": "text/x-python",
   "name": "python",
   "nbconvert_exporter": "python",
   "pygments_lexer": "ipython3",
   "version": "3.9.18"
  }
 },
 "nbformat": 4,
 "nbformat_minor": 2
}
