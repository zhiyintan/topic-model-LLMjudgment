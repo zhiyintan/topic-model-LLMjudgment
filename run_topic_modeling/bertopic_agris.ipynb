{
 "cells": [
  {
   "cell_type": "code",
   "execution_count": null,
   "metadata": {},
   "outputs": [],
   "source": [
    "import os\n",
    "os.chdir(\"..\")"
   ]
  },
  {
   "cell_type": "code",
   "execution_count": 2,
   "metadata": {},
   "outputs": [
    {
     "name": "stderr",
     "output_type": "stream",
     "text": [
      "/nfs/home/tanz/paper_agri/Agri-venv/lib64/python3.9/site-packages/tqdm/auto.py:21: TqdmWarning: IProgress not found. Please update jupyter and ipywidgets. See https://ipywidgets.readthedocs.io/en/stable/user_install.html\n",
      "  from .autonotebook import tqdm as notebook_tqdm\n"
     ]
    }
   ],
   "source": [
    "# Select a topic model\n",
    "#model = \"lda\" ; from src.topic_models.lda_model import LDAData, LDAModelTrainer\n",
    "#model = \"prodlda\"; from src.topic_models.prodlda_model_octis import ProdLDAData, ProdLDATrainer\n",
    "#model = \"combinedtm\"; from src.topic_models.combinedtm_model import CombinedTMData, CombinedTMTrainer\n",
    "model = \"bertopic\"; from src.topic_models.bertopic_model import BERTopicData, BERTopicTrainer"
   ]
  },
  {
   "cell_type": "code",
   "execution_count": null,
   "metadata": {},
   "outputs": [],
   "source": [
    "# Select a dataset\n",
    "dataset = \"agris\" # vocab: 90604; used agris stopwords vocab: 13354\n",
    "preprocessing_params = {\n",
    "    \"vocab_size\": 10000, \n",
    "    \"stopwords\": 'agris'}\n",
    "\n",
    "# BERTopic & agris: \n",
    "# ? seconds per run with cpu only; \n",
    "# 3 mins per run with gpu;"
   ]
  },
  {
   "cell_type": "code",
   "execution_count": 4,
   "metadata": {},
   "outputs": [],
   "source": [
    "# List data path\n",
    "train_path = f\"../data/raw/{dataset}/tokenized_train.csv\"\n",
    "test_path = f\"../data/raw/{dataset}/tokenized_test.csv\"\n",
    "\n",
    "# Set result path\n",
    "result_dir = f\"../data/topic_model_output/{dataset}/{model}\""
   ]
  },
  {
   "cell_type": "code",
   "execution_count": 5,
   "metadata": {},
   "outputs": [],
   "source": [
    "# Parameters for model training\n",
    "\n",
    "# how many topic words for each topic to be remained, are they printed\n",
    "num_topic_words = 10\n",
    "print_topic_words = True\n",
    "\n",
    "# run n times\n",
    "num_iterations = 1\n",
    "\n",
    "# to get the topic distribution of test data or not\n",
    "run_test = True #False\n",
    "\n",
    "# parameters_tuning mode or not\n",
    "mode = '' #'parameters_tuning' # ''"
   ]
  },
  {
   "cell_type": "code",
   "execution_count": 6,
   "metadata": {},
   "outputs": [
    {
     "name": "stdout",
     "output_type": "stream",
     "text": [
      "[(10, 5, 690, 0.3)]\n"
     ]
    }
   ],
   "source": [
    "# Parameters for topic model, can be revised by go to the definition of \"get_parameter_combinations\"\n",
    "from src.topic_models.utils.data_utils import get_parameter_combinations\n",
    "parameter_combinations = get_parameter_combinations(model)\n",
    "print(parameter_combinations)"
   ]
  },
  {
   "cell_type": "code",
   "execution_count": 7,
   "metadata": {},
   "outputs": [
    {
     "name": "stderr",
     "output_type": "stream",
     "text": [
      "Processing train texts: 100%|█████████████████████████████████████████████████████████| 454850/454850 [00:05<00:00, 84017.09it/s]\n",
      "Processing test texts: 100%|████████████████████████████████████████████████████████████| 50703/50703 [00:00<00:00, 85119.76it/s]\n"
     ]
    }
   ],
   "source": [
    "# Load data\n",
    "#lda_data = LDAData(train_path, test_path, preprocessing_params)\n",
    "#prodlda_data = ProdLDAData(train_path, test_path, preprocessing_params)\n",
    "#combinedtm_data = CombinedTMData(train_path, test_path, preprocessing_params)\n",
    "bertopic_data = BERTopicData(train_path, test_path, preprocessing_params)"
   ]
  },
  {
   "cell_type": "code",
   "execution_count": 8,
   "metadata": {},
   "outputs": [
    {
     "name": "stdout",
     "output_type": "stream",
     "text": [
      "vocabulary size: 10000\n"
     ]
    }
   ],
   "source": [
    "print(f\"vocabulary size: {len(bertopic_data.train['vocab'])}\")"
   ]
  },
  {
   "cell_type": "code",
   "execution_count": 9,
   "metadata": {},
   "outputs": [],
   "source": [
    "# Prepare model trainer\n",
    "#trainer = LDAModelTrainer(lda_data, num_topic_words, parameter_combinations, result_dir, mode=mode, print_topic_words=print_topic_words, run_test=run_test)\n",
    "#trainer = ProdLDATrainer(prodlda_data, num_topic_words, parameter_combinations, result_dir, mode=mode, print_topic_words=print_topic_words, run_test=run_test)\n",
    "#trainer = CombinedTMTrainer(combinedtm_data, num_topic_words, parameter_combinations, result_dir, mode=mode, print_topic_words=print_topic_words, run_test=run_test)\n",
    "trainer = BERTopicTrainer(bertopic_data, num_topic_words, parameter_combinations, result_dir, mode=mode, print_topic_words=print_topic_words, run_test=run_test)"
   ]
  },
  {
   "cell_type": "code",
   "execution_count": 10,
   "metadata": {},
   "outputs": [],
   "source": [
    "# Sample data from training set as corpus for coherence evaluation\n",
    "eval_corpus = None # None, int (sample counts)"
   ]
  },
  {
   "cell_type": "code",
   "execution_count": 11,
   "metadata": {},
   "outputs": [
    {
     "name": "stderr",
     "output_type": "stream",
     "text": [
      "Training Model with 1 Parameter Combinations:   0%|                                                        | 0/1 [00:00<?, ?it/s]"
     ]
    },
    {
     "name": "stderr",
     "output_type": "stream",
     "text": [
      "Batches: 100%|████████████████████████████████████████████████████████████████████████████| 14215/14215 [01:07<00:00, 209.80it/s]\n",
      "2025-04-10 16:16:43,615 - BERTopic - Dimensionality - Fitting the dimensionality reduction algorithm\n",
      "2025-04-10 16:16:52,943 - BERTopic - Dimensionality - Completed ✓\n",
      "2025-04-10 16:16:52,953 - BERTopic - Cluster - Start clustering the reduced embeddings\n"
     ]
    },
    {
     "name": "stdout",
     "output_type": "stream",
     "text": [
      "[I] [16:16:47.184886] Transform can only be run with brute force. Using brute force.\n",
      "func: all_points_membership_vectors\n"
     ]
    },
    {
     "name": "stderr",
     "output_type": "stream",
     "text": [
      "2025-04-10 16:17:19,731 - BERTopic - Cluster - Completed ✓\n",
      "2025-04-10 16:17:19,773 - BERTopic - Representation - Extracting topics from clusters using representation models.\n",
      "2025-04-10 16:17:23,209 - BERTopic - Representation - Completed ✓\n"
     ]
    },
    {
     "name": "stdout",
     "output_type": "stream",
     "text": [
      "avg_words:\t580\n",
      "Topic -1: 10, soil irrigation plant yield crop field growth irrigate drought application\n",
      "Topic 0: 10, irrigation management river basin efficiency policy reservoir allocation project deficit\n",
      "Topic 1: 10, rice paddy field lowland yield cultivation farmer crop irrigation fertilizer\n",
      "Topic 2: 10, salinity saline nacl salinization soil irrigation sodium groundwater chloride crop\n",
      "Topic 3: 10, farmer agricultural crop rural farming livelihood climate poverty country adaptation\n",
      "Topic 4: 10, model datum rmse yield policy regression estimate coefficient project prediction\n",
      "Topic 5: 10, seed root plant genotype cultivar germination stem harvest length population\n",
      "Topic 6: 10, microbial pathogen bacteria antibiotic salmonella rhizosphere fungicide coliform microorganism fungus\n",
      "Topic 7: 10, groundwater aquifer recharge basin region irrigation geochemical river alluvial arid\n",
      "Topic 8: 10, herbicide pesticide pest insect insecticide application infestation spray crop weevil\n",
      "Topic 9: 10, nitrate nitrogen fertilizer ammonium soil groundwater nitrification ammonia nh₃ irrigation\n",
      "Topic 10: 10, wastewater sewage effluent contamination sludge contaminant irrigate irrigation pollutant disposal\n",
      "Topic 11: 10, wheat grain yield spike cultivar spring barley grow irrigation crop\n",
      "Topic 12: 10, evapotranspiration evaporation estimate crop penman coefficient irrigation precipitation soil requirement\n",
      "Topic 13: 10, fruit apple weight harvest yield orchard irrigation ripen acidity plant\n",
      "Topic 14: 10, cotton lint seed irrigation plant fibre crop grow yarn cultivar\n",
      "Topic 15: 10, conductance photosynthetic chlorophyll fluorescence transpiration plant photochemical stomata drought photosystem\n",
      "Topic 16: 10, temperature rainfall climate precipitation weather datum meteorological humidity region forecast\n",
      "Topic 17: 10, maize corn yield wheat irrigation summer crop field soil plant\n",
      "Topic 18: 10, lake wetland pond fishery habitat aquaculture ecosystem trout landscape freshwater\n",
      "Topic 19: 10, cadmium concentration wastewater copper soil contamination pollution zinc sewage metalloid\n",
      "Topic 20: 10, tillage tiller conventional tillering plow soil crop chisel maize harrow\n",
      "Topic 21: 10, turfgrass bermudagrass ryegrass bentgrass perennial wheatgrass switchgrass cultivar pasture bromegrass\n",
      "Topic 22: 10, soil depth sample soc topsoil surface land horizon texture variability\n",
      "Topic 23: 10, tomato pepper capsicum yield irrigation plant crop nutrient fertilizer hydroponic\n",
      "Topic 24: 10, fertilizer fertilization fertigation application fertilize fertiliser nutrient yield irrigation soil\n",
      "Topic 25: 10, potato tuber yield russet irrigation cultivar crop planting fertilizer kufri\n",
      "Topic 26: 10, county sir snake aquifer zero program recharge salt salinity soil\n",
      "Topic 27: 10, grape vineyard vine berry irrigation chardonnay ripen climate cultivar cluster\n",
      "Topic 28: 10, moisture sensor soil measurement field capacity zone surface irrigation substrate\n",
      "Topic 29: 10, co₂ emission ghg greenhouse n₂o soil increase footprint crop organic\n",
      "Topic 30: 10, olive oil orchard europaea cultivar wastewater irrigation grow barnea irrigate\n",
      "Topic 31: 10, pasture dairy grazing sheep livestock cattle feed beef farm herd\n",
      "Topic 32: 10, mulch mulching straw biodegradable polyethylene mulched irrigation maize crop cotton\n",
      "Topic 33: 10, arid region desert desertification resource climate agricultural irrigation landscape vegetation\n",
      "Topic 34: 10, drought genotype tolerance trait cultivar plant susceptible breeding crop specie\n",
      "Topic 35: 10, hco₃ adsorption ratio carbonate conductivity groundwater permeability alkaline calcium chloride\n",
      "Topic 36: 10, sugarcane yield crop officinarum cultivation juice irrigation plant cultivar jaggery\n",
      "Topic 37: 10, canopy vegetation temperature ndvi reflectance infrared sensor cwsi solar resistance\n",
      "Topic 38: 10, drought agricultural vulnerability severity region meteorological hydrological rainfall spi adaptation\n",
      "Topic 39: 10, soybean glycine yield cultivar planting corn irrigation crop bean genotype\n",
      "Topic 40: 10, sorghum grain forage corn crop drought wheat maize soybean cultivar\n",
      "Topic 41: 10, arsenic selenium groundwater contamination selenite contaminated soil toxicity food cadmium\n",
      "Topic 42: 10, manure fertilizer poultry compost organic soil feedlot nutrient cow farm\n",
      "Topic 43: 10, leach leachate soil landfill fertilizer irrigation container solute decrease runoff\n",
      "Topic 44: 10, oil seed oleic linoleic palmitic lavender irrigation plant cultivar herbage\n",
      "Topic 45: 10, biochar soil increase straw nutrient compost irrigation organic wastewater biomass\n",
      "Topic 46: 10, phosphorus phosphate nitrogen phosphorous fertilizer superphosphate soil nutrient fertilization plant\n",
      "Topic 47: 10, antioxidant peroxidase enzyme glutathione drought reductase ascorbic oxygen plant chlorophyll\n",
      "Topic 48: 10, canal irrigation branch operation section controller downstream hydraulic design punjab\n",
      "Topic 49: 10, alfalfa forage hay salinity harvest irrigation crop soil plant irrigated\n",
      "Topic 50: 10, emitter clogging drip filter irrigation pipe trickle dripper hydraulic microirrigation\n",
      "Topic 51: 10, clay sand silty soil texture content hyperthermic depth gravel medium\n",
      "Topic 52: 10, citrus mandarin tree orchard rootstock lemon trifoliata fruit irrigation grapefruit\n",
      "Topic 53: 10, sediment sedimentation reservoir river catchment erosion runoff watershed basin downstream\n",
      "Topic 54: 10, mycorrhizal mycorrhiza mycorrhizae mycorrhization inoculate drought ectomycorrhizal fungal phosphorus mycelium\n",
      "Topic 55: 10, nematode parasitic feltiae bacteriophora pratylenchus soil cyst nematoda tomato infection\n",
      "Topic 56: 10, n₂o oxide fertilizer soil nitrogen greenhouse fertiliser pasture no₃ annual\n",
      "\n",
      "\n",
      "The shape of train set's topic distribution is (454850, 57)\n",
      "Topic Diversity: 0.4896551724137931 (used 0.0033 seconds)\n",
      "Inverted Ranked-Biased Overlap: 0.680666379827534 (used 0.1713 seconds)\n",
      "Topic Coherence u_mass: -4.774134507589742 (used 14.6439 seconds)\n",
      "Topic Coherence c_v: 0.5584209005804391 (used 27.7241 seconds)\n",
      "Topic Coherence c_npmi: 0.05277750818702905 (used 25.7441 seconds)\n"
     ]
    },
    {
     "name": "stderr",
     "output_type": "stream",
     "text": [
      "Batches: 100%|██████████████████████████████████████████████████████████████████████████████| 1585/1585 [00:07<00:00, 217.11it/s]\n",
      "2025-04-10 16:18:41,496 - BERTopic - Dimensionality - Reducing dimensionality of input embeddings.\n",
      "2025-04-10 16:18:42,146 - BERTopic - Dimensionality - Completed ✓\n",
      "2025-04-10 16:18:42,147 - BERTopic - Clustering - Approximating new points with `hdbscan_model`\n"
     ]
    },
    {
     "name": "stdout",
     "output_type": "stream",
     "text": [
      "func: approximate_predict\n"
     ]
    },
    {
     "name": "stderr",
     "output_type": "stream",
     "text": [
      "2025-04-10 16:18:43,733 - BERTopic - Probabilities - Start calculation of probabilities with HDBSCAN\n"
     ]
    },
    {
     "name": "stdout",
     "output_type": "stream",
     "text": [
      "func: membership_vector\n"
     ]
    },
    {
     "name": "stderr",
     "output_type": "stream",
     "text": [
      "2025-04-10 16:18:45,354 - BERTopic - Probabilities - Completed ✓\n",
      "2025-04-10 16:18:45,355 - BERTopic - Cluster - Completed ✓\n",
      "Training Model with 1 Parameter Combinations: 100%|███████████████████████████████████████████████| 1/1 [03:17<00:00, 197.01s/it]"
     ]
    },
    {
     "name": "stdout",
     "output_type": "stream",
     "text": [
      "The shape of test set's topic distribution is (50703, 57)\n"
     ]
    },
    {
     "name": "stderr",
     "output_type": "stream",
     "text": [
      "\n"
     ]
    }
   ],
   "source": [
    "# Train and evaluate the model\n",
    "trainer.train_and_evaluate(num_iterations)"
   ]
  }
 ],
 "metadata": {
  "kernelspec": {
   "display_name": "Python 3 (ipykernel)",
   "language": "python",
   "name": "python3"
  },
  "language_info": {
   "codemirror_mode": {
    "name": "ipython",
    "version": 3
   },
   "file_extension": ".py",
   "mimetype": "text/x-python",
   "name": "python",
   "nbconvert_exporter": "python",
   "pygments_lexer": "ipython3",
   "version": "3.9.21"
  }
 },
 "nbformat": 4,
 "nbformat_minor": 2
}
